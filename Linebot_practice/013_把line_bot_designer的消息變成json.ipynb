{
  "cells": [
    {
      "cell_type": "code",
      "execution_count": null,
      "metadata": {
        "id": "p0W867ZhdkdI",
        "colab": {
          "base_uri": "https://localhost:8080/"
        },
        "outputId": "b94851a0-0e1a-4ba0-e3ba-5a73128bdd17"
      },
      "outputs": [
        {
          "output_type": "stream",
          "name": "stdout",
          "text": [
            "Drive already mounted at /content/drive; to attempt to forcibly remount, call drive.mount(\"/content/drive\", force_remount=True).\n"
          ]
        }
      ],
      "source": [
        "'''\n",
        "\n",
        "資料 mapping 至google drive\n",
        "\n",
        "把資料寫在/content/drive\n",
        "\n",
        "即可保存在 google drive內\n",
        "\n",
        "'''\n",
        "from google.colab import drive\n",
        "drive.mount('/content/drive')"
      ]
    },
    {
      "cell_type": "code",
      "execution_count": null,
      "metadata": {
        "id": "uB-ssmBtd5ac"
      },
      "outputs": [],
      "source": [
        "!pip install line-bot-sdk flask flask-ngrok"
      ]
    },
    {
      "cell_type": "code",
      "execution_count": null,
      "metadata": {
        "id": "JS4BNBZQd7HU"
      },
      "outputs": [],
      "source": [
        "'''\n",
        "引用套件\n",
        "'''\n",
        "\n",
        "# 引用Web Server套件\n",
        "from flask import Flask, request, abort, jsonify\n",
        "\n",
        "# 載入json處理套件\n",
        "import json\n",
        "\n",
        "# 外部連結自動生成套件\n",
        "from flask_ngrok import run_with_ngrok\n",
        "\n",
        "# 從linebot 套件包裡引用 LineBotApi 與 WebhookHandler 類別\n",
        "from linebot import (\n",
        "    LineBotApi, WebhookHandler\n",
        ")\n",
        "\n",
        "# 引用無效簽章錯誤\n",
        "from linebot.exceptions import (\n",
        "    InvalidSignatureError\n",
        ")\n"
      ]
    },
    {
      "cell_type": "code",
      "execution_count": null,
      "metadata": {
        "id": "DQjGb3Hjiy5U"
      },
      "outputs": [],
      "source": [
        "# 設定Server啟用細節\n",
        "app = Flask(__name__, static_url_path = \"/素材\" , static_folder = \"./素材/\")\n",
        "run_with_ngrok(app)\n",
        "\n",
        "# 生成實體物件，跟line溝通用\n",
        "line_bot_api = LineBotApi(\"your channel access token\")\n",
        "# 收發消息專用\n",
        "handler = WebhookHandler(\"your channel secret\")"
      ]
    },
    {
      "cell_type": "code",
      "execution_count": null,
      "metadata": {
        "id": "gUuI4lVzi5M7"
      },
      "outputs": [],
      "source": [
        "# 啟動server對外接口，使Line能丟消息進來\n",
        "@app.route(\"/\", methods=['POST'])\n",
        "def callback():\n",
        "    # get X-Line-Signature header value\n",
        "    signature = request.headers['X-Line-Signature']\n",
        "\n",
        "    # get request body as text\n",
        "    body = request.get_data(as_text=True)\n",
        "    app.logger.info(\"Request body: \" + body)\n",
        "\n",
        "    # handle webhook body\n",
        "    try:\n",
        "        handler.handle(body, signature)\n",
        "    except InvalidSignatureError:\n",
        "        abort(400)\n",
        "\n",
        "    return 'OK'"
      ]
    },
    {
      "cell_type": "code",
      "execution_count": null,
      "metadata": {
        "id": "iKUrvJ74jQMz"
      },
      "outputs": [],
      "source": [
        "'''\n",
        "消息判斷器\n",
        "讀取指定的json檔案後，把json解析成不同格式的SendMessage\n",
        "讀取檔案，\n",
        "把內容轉換成json\n",
        "將json轉換成消息\n",
        "放回array中，並把array傳出。\n",
        "'''\n",
        "\n",
        "# 引用會用到的套件\n",
        "from linebot.models import (\n",
        "    ImagemapSendMessage,TextSendMessage,ImageSendMessage,LocationSendMessage,FlexSendMessage,VideoSendMessage,StickerSendMessage,AudioSendMessage\n",
        ")\n",
        "\n",
        "from linebot.models.template import (\n",
        "    ButtonsTemplate,CarouselTemplate,ConfirmTemplate,ImageCarouselTemplate\n",
        "    \n",
        ")\n",
        "\n",
        "from linebot.models.template import *\n",
        "\n",
        "def detect_json_array_to_new_message_array(fileName):\n",
        "    \n",
        "    #開啟檔案，轉成json\n",
        "    with open(fileName, encoding='utf8') as f:\n",
        "        jsonArray = json.load(f)\n",
        "    \n",
        "    # 解析json\n",
        "    returnArray = []\n",
        "    for jsonObject in jsonArray:\n",
        "\n",
        "        # 讀取其用來判斷的元件\n",
        "        message_type = jsonObject.get('type')\n",
        "        \n",
        "        # 轉換\n",
        "        if message_type == 'text':\n",
        "            returnArray.append(TextSendMessage.new_from_json_dict(jsonObject))\n",
        "        elif message_type == 'imagemap':\n",
        "            returnArray.append(ImagemapSendMessage.new_from_json_dict(jsonObject))\n",
        "        elif message_type == 'template':\n",
        "            returnArray.append(TemplateSendMessage.new_from_json_dict(jsonObject))\n",
        "        elif message_type == 'image':\n",
        "            returnArray.append(ImageSendMessage.new_from_json_dict(jsonObject))\n",
        "        elif message_type == 'sticker':\n",
        "            returnArray.append(StickerSendMessage.new_from_json_dict(jsonObject))  \n",
        "        elif message_type == 'audio':\n",
        "            returnArray.append(AudioSendMessage.new_from_json_dict(jsonObject))  \n",
        "        elif message_type == 'location':\n",
        "            returnArray.append(LocationSendMessage.new_from_json_dict(jsonObject))\n",
        "        elif message_type == 'flex':\n",
        "            returnArray.append(FlexSendMessage.new_from_json_dict(jsonObject))  \n",
        "        elif message_type == 'video':\n",
        "            returnArray.append(VideoSendMessage.new_from_json_dict(jsonObject))    \n",
        "\n",
        "\n",
        "    # 回傳\n",
        "    return returnArray\n"
      ]
    },
    {
      "cell_type": "code",
      "execution_count": null,
      "metadata": {
        "id": "zWhCWzrfjge5"
      },
      "outputs": [],
      "source": [
        "\n",
        "# 引用套件\n",
        "from linebot.models import (\n",
        "    MessageEvent, TextMessage\n",
        ")\n",
        "\n",
        "\n",
        "# 文字消息處理\n",
        "@handler.add(MessageEvent,message=TextMessage)\n",
        "def process_text_message(event):\n",
        "\n",
        "    # 讀取本地檔案，並轉譯成消息\n",
        "    result_message_array =[]\n",
        "    # 用戶輸入的文字，就在本地端找想相應的json檔\n",
        "    replyJsonPath = event.message.text+\".json\"\n",
        "    result_message_array = detect_json_array_to_new_message_array(replyJsonPath)\n",
        "\n",
        "    # 發送\n",
        "    line_bot_api.reply_message(\n",
        "        event.reply_token,\n",
        "        result_message_array\n",
        "    )"
      ]
    },
    {
      "cell_type": "code",
      "execution_count": null,
      "metadata": {
        "id": "fFwaojqca8F6",
        "colab": {
          "base_uri": "https://localhost:8080/"
        },
        "outputId": "03770d3f-f92a-4c21-9ba3-3cef95d3c3d5"
      },
      "outputs": [
        {
          "output_type": "stream",
          "name": "stdout",
          "text": [
            " * Serving Flask app \"__main__\" (lazy loading)\n",
            " * Environment: production\n",
            "\u001b[31m   WARNING: This is a development server. Do not use it in a production deployment.\u001b[0m\n",
            "\u001b[2m   Use a production WSGI server instead.\u001b[0m\n",
            " * Debug mode: off\n"
          ]
        },
        {
          "output_type": "stream",
          "name": "stderr",
          "text": [
            "INFO:werkzeug: * Running on http://127.0.0.1:5000/ (Press CTRL+C to quit)\n"
          ]
        },
        {
          "output_type": "stream",
          "name": "stdout",
          "text": [
            " * Running on http://a94f-35-231-192-107.ngrok.io\n",
            " * Traffic stats available on http://127.0.0.1:4040\n"
          ]
        },
        {
          "output_type": "stream",
          "name": "stderr",
          "text": [
            "INFO:werkzeug:127.0.0.1 - - [07/Oct/2022 10:03:13] \"\u001b[37mPOST / HTTP/1.1\u001b[0m\" 200 -\n",
            "ERROR:__main__:Exception on / [POST]\n",
            "Traceback (most recent call last):\n",
            "  File \"/usr/local/lib/python3.7/dist-packages/flask/app.py\", line 2447, in wsgi_app\n",
            "    response = self.full_dispatch_request()\n",
            "  File \"/usr/local/lib/python3.7/dist-packages/flask/app.py\", line 1952, in full_dispatch_request\n",
            "    rv = self.handle_user_exception(e)\n",
            "  File \"/usr/local/lib/python3.7/dist-packages/flask/app.py\", line 1821, in handle_user_exception\n",
            "    reraise(exc_type, exc_value, tb)\n",
            "  File \"/usr/local/lib/python3.7/dist-packages/flask/_compat.py\", line 39, in reraise\n",
            "    raise value\n",
            "  File \"/usr/local/lib/python3.7/dist-packages/flask/app.py\", line 1950, in full_dispatch_request\n",
            "    rv = self.dispatch_request()\n",
            "  File \"/usr/local/lib/python3.7/dist-packages/flask/app.py\", line 1936, in dispatch_request\n",
            "    return self.view_functions[rule.endpoint](**req.view_args)\n",
            "  File \"<ipython-input-19-4651184fc34d>\", line 13, in callback\n",
            "    handler.handle(body, signature)\n",
            "  File \"/usr/local/lib/python3.7/dist-packages/linebot/webhook.py\", line 259, in handle\n",
            "    self.__invoke_func(func, event, payload)\n",
            "  File \"/usr/local/lib/python3.7/dist-packages/linebot/webhook.py\", line 271, in __invoke_func\n",
            "    func(event)\n",
            "  File \"<ipython-input-23-41def6d0430f>\", line 15, in process_text_message\n",
            "    result_message_array = detect_json_array_to_new_message_array(replyJsonPath)\n",
            "  File \"<ipython-input-20-79ac1d20baf8>\", line 25, in detect_json_array_to_new_message_array\n",
            "    with open(fileName, encoding='utf8') as f:\n",
            "FileNotFoundError: [Errno 2] No such file or directory: 'hello.json'\n",
            "INFO:werkzeug:127.0.0.1 - - [07/Oct/2022 10:04:56] \"\u001b[35m\u001b[1mPOST / HTTP/1.1\u001b[0m\" 500 -\n",
            "INFO:werkzeug:127.0.0.1 - - [07/Oct/2022 10:05:02] \"\u001b[37mPOST / HTTP/1.1\u001b[0m\" 200 -\n"
          ]
        }
      ],
      "source": [
        "# 主程序運行\n",
        "app.run()"
      ]
    }
  ],
  "metadata": {
    "colab": {
      "collapsed_sections": [],
      "provenance": []
    },
    "kernelspec": {
      "display_name": "Python 3",
      "language": "python",
      "name": "python3"
    },
    "language_info": {
      "codemirror_mode": {
        "name": "ipython",
        "version": 3
      },
      "file_extension": ".py",
      "mimetype": "text/x-python",
      "name": "python",
      "nbconvert_exporter": "python",
      "pygments_lexer": "ipython3",
      "version": "3.8.6"
    }
  },
  "nbformat": 4,
  "nbformat_minor": 0
}