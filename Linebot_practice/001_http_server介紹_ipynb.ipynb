{
  "nbformat": 4,
  "nbformat_minor": 0,
  "metadata": {
    "colab": {
      "provenance": [],
      "collapsed_sections": []
    },
    "kernelspec": {
      "name": "python3",
      "display_name": "Python 3"
    }
  },
  "cells": [
    {
      "cell_type": "markdown",
      "metadata": {
        "id": "FSsnOYzxrQAG"
      },
      "source": [
        "資訊世界也差不多，每個電腦都可以是訊息的傳入與傳出點\n",
        "\n",
        "有的時候，我們想收發email，會用smtp\n",
        "\n",
        "有的時候，想跟別人共享檔案，會用ftp\n",
        "\n",
        "而最常見的一種方式，是http，常見的網站協定"
      ]
    },
    {
      "cell_type": "markdown",
      "metadata": {
        "id": "GpnIVLxMrvOl"
      },
      "source": [
        "每一種程式語言都能夠用套件，去表達http協定\n",
        "\n",
        "python語言最常見的一種套件，叫做flask"
      ]
    },
    {
      "cell_type": "markdown",
      "metadata": {
        "id": "9j3rjoLAr-CH"
      },
      "source": [
        "體驗流程如下，但凡寫程式的流程似乎就這樣了\n",
        "\n",
        "安裝套件\n",
        "\n",
        "引用套件\n",
        "\n",
        "建置主程序\n",
        "\n",
        "為主程序製作交互API接口\n",
        "\n",
        "啟動主程序"
      ]
    },
    {
      "cell_type": "code",
      "metadata": {
        "id": "Zlxxf_XHsrQW"
      },
      "source": [
        "'''\n",
        "安裝套件\n",
        "'''\n",
        "!pip install line-bot-sdk flask flask-ngrok\n",
        "!pip install pyngrok\n",
        "!ngrok authtoken 2DBoWEBaOlsQJy14aLnwnyRF9QC_3XCsKqaygEQ1gHjNgTkoF"
      ],
      "execution_count": null,
      "outputs": []
    },
    {
      "cell_type": "code",
      "metadata": {
        "id": "QpiUk0oqs2xA"
      },
      "source": [
        "'''\n",
        "引用套件\n",
        "'''\n",
        "\n",
        "# 引用flask Web Server套件\n",
        "from flask import Flask, request, abort, jsonify\n",
        "\n",
        "# 載入json處理套件\n",
        "import json\n",
        "\n",
        "# 外部連結自動生成套件\n",
        "from flask_ngrok import run_with_ngrok"
      ],
      "execution_count": null,
      "outputs": []
    },
    {
      "cell_type": "code",
      "metadata": {
        "id": "qIz_GY8JtGtR"
      },
      "source": [
        "'''\n",
        "建置主程序\n",
        "'''\n",
        "\n",
        "# 設定Server啟用細節。如果要找得到圖片，可以建一個 material 資料夾，把圖片放入\n",
        "app = Flask(__name__, static_url_path = \"/material\" , static_folder = \"./material/\")\n",
        "\n",
        "# 臨時生成一個 https url，建議開發時用，生產環境上GCP不需要\n",
        "run_with_ngrok(app)"
      ],
      "execution_count": null,
      "outputs": []
    },
    {
      "cell_type": "code",
      "metadata": {
        "id": "PyxwcE731IRD"
      },
      "source": [
        "'''\n",
        "為主程序創造多個API接口\n",
        "\n",
        "想像思路\n",
        "當外面的封包進來的時候，轉流到這個方法\n",
        "'''\n",
        "# 啟動主程序的API接口，最簡單版本\n",
        "@app.route(\"/\", methods=['GET'])\n",
        "def callback():\n",
        "     \n",
        "    return 'Hello World'"
      ],
      "execution_count": null,
      "outputs": []
    },
    {
      "cell_type": "code",
      "metadata": {
        "id": "UlZwRkCS1pmY"
      },
      "source": [
        "# 第二隻接口，\n",
        "\n",
        "# 啟動主程序的API接口，名為calculate，計算機功能，剖析v1參數與v2參數\n",
        "@app.route(\"/calculate\", methods=['GET'])\n",
        "def calculate():\n",
        "    # 取用 query string 內的 v1 和 v2 參數，並做加法\n",
        "    first_parameter = int(request.args.get('v1'))\n",
        "    second_parameter = int(request.args.get('v2'))\n",
        "    return str(first_parameter+second_parameter)"
      ],
      "execution_count": null,
      "outputs": []
    },
    {
      "cell_type": "code",
      "metadata": {
        "id": "htiCzxi82fN3",
        "colab": {
          "base_uri": "https://localhost:8080/"
        },
        "outputId": "4b009c71-de48-4961-e0d0-7d8e16d20b95"
      },
      "source": [
        "# 啟動主程序，持續運行 http 伺服器，後面程序無法執行\n",
        "app.run()"
      ],
      "execution_count": null,
      "outputs": [
        {
          "output_type": "stream",
          "name": "stdout",
          "text": [
            " * Serving Flask app \"__main__\" (lazy loading)\n",
            " * Environment: production\n",
            "\u001b[31m   WARNING: This is a development server. Do not use it in a production deployment.\u001b[0m\n",
            "\u001b[2m   Use a production WSGI server instead.\u001b[0m\n",
            " * Debug mode: off\n"
          ]
        },
        {
          "output_type": "stream",
          "name": "stderr",
          "text": [
            "INFO:werkzeug: * Running on http://127.0.0.1:5000/ (Press CTRL+C to quit)\n"
          ]
        },
        {
          "output_type": "stream",
          "name": "stdout",
          "text": [
            " * Running on http://f57d-34-125-119-119.ngrok.io\n",
            " * Traffic stats available on http://127.0.0.1:4040\n"
          ]
        },
        {
          "output_type": "stream",
          "name": "stderr",
          "text": [
            "INFO:werkzeug:127.0.0.1 - - [07/Oct/2022 02:07:01] \"\u001b[37mGET / HTTP/1.1\u001b[0m\" 200 -\n",
            "INFO:werkzeug:127.0.0.1 - - [07/Oct/2022 02:07:01] \"\u001b[33mGET /favicon.ico HTTP/1.1\u001b[0m\" 404 -\n",
            "INFO:werkzeug:127.0.0.1 - - [07/Oct/2022 02:07:38] \"\u001b[33mGET /v1=3&v2=5 HTTP/1.1\u001b[0m\" 404 -\n",
            "INFO:werkzeug:127.0.0.1 - - [07/Oct/2022 02:07:38] \"\u001b[33mGET /favicon.ico HTTP/1.1\u001b[0m\" 404 -\n",
            "INFO:werkzeug:127.0.0.1 - - [07/Oct/2022 02:07:54] \"\u001b[37mGET /calculate?v1=3&v2=5 HTTP/1.1\u001b[0m\" 200 -\n",
            "INFO:werkzeug:127.0.0.1 - - [07/Oct/2022 02:08:03] \"\u001b[37mGET /calculate?v1=3&v2=5 HTTP/1.1\u001b[0m\" 200 -\n",
            "INFO:werkzeug:127.0.0.1 - - [07/Oct/2022 02:08:10] \"\u001b[37mGET /calculate?v1=3&v2=8 HTTP/1.1\u001b[0m\" 200 -\n"
          ]
        }
      ]
    }
  ]
}