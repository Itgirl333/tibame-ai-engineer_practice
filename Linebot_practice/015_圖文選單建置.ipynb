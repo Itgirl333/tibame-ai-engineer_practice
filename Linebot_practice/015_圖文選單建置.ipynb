{
  "cells": [
    {
      "cell_type": "code",
      "execution_count": null,
      "metadata": {
        "id": "KMGAqho_hszA"
      },
      "outputs": [],
      "source": [
        "'''\n",
        "\n",
        "用戶菜單功能介紹\n",
        "\n",
        "    用戶能透過點擊菜單，進行我方希冀之業務功能。\n",
        "    \n",
        "流程\n",
        "    準備菜單的圖面設定檔\n",
        "    讀取安全設定檔上的參數\n",
        "    將菜單設定檔傳給Line\n",
        "    對Line上傳菜單照片\n",
        "    檢視現有的菜單\n",
        "    將菜單與用戶做綁定\n",
        "    將菜單與用戶解除綁定\n",
        "    刪除菜單\n",
        "\n",
        "'''"
      ]
    },
    {
      "cell_type": "code",
      "execution_count": null,
      "metadata": {
        "id": "L60EYjCRhszA"
      },
      "outputs": [],
      "source": [
        "'''\n",
        "菜單設定檔\n",
        "\n",
        "    設定圖面大小、按鍵名與功能\n",
        "    \n",
        "'''\n",
        "\n",
        "menuRawData=\"\"\"\n",
        "{\n",
        "  \"size\": {\n",
        "    \"width\": 2500,\n",
        "    \"height\": 1686\n",
        "  },\n",
        "  \"selected\": true,\n",
        "  \"name\": \"區塊鏈自定義菜單\",\n",
        "  \"chatBarText\": \"查看更多資訊\",\n",
        "  \"areas\": [\n",
        "    {\n",
        "      \"bounds\": {\n",
        "        \"x\": 5,\n",
        "        \"y\": 0,\n",
        "        \"width\": 824,\n",
        "        \"height\": 850\n",
        "      },\n",
        "      \"action\": {\n",
        "        \"type\": \"message\",\n",
        "        \"text\": \"[::text:]傳統交易\"\n",
        "      }\n",
        "    },\n",
        "    {\n",
        "      \"bounds\": {\n",
        "        \"x\": 0,\n",
        "        \"y\": 850,\n",
        "        \"width\": 825,\n",
        "        \"height\": 818\n",
        "      },\n",
        "      \"action\": {\n",
        "        \"type\": \"message\",\n",
        "        \"text\": \"[::text:]第三方公證人\"\n",
        "      }\n",
        "    },\n",
        "    {\n",
        "      \"bounds\": {\n",
        "        \"x\": 829,\n",
        "        \"y\": 5,\n",
        "        \"width\": 871,\n",
        "        \"height\": 849\n",
        "      },\n",
        "      \"action\": {\n",
        "        \"type\": \"message\",\n",
        "        \"text\": \"[::text:]多位公證人\"\n",
        "      }\n",
        "    },\n",
        "    {\n",
        "      \"bounds\": {\n",
        "        \"x\": 825,\n",
        "        \"y\": 854,\n",
        "        \"width\": 875,\n",
        "        \"height\": 814\n",
        "      },\n",
        "      \"action\": {\n",
        "        \"type\": \"message\",\n",
        "        \"text\": \"[::text:]多組織多位公證人\"\n",
        "      }\n",
        "    },\n",
        "    {\n",
        "      \"bounds\": {\n",
        "        \"x\": 1700,\n",
        "        \"y\": 0,\n",
        "        \"width\": 800,\n",
        "        \"height\": 858\n",
        "      },\n",
        "      \"action\": {\n",
        "        \"type\": \"message\",\n",
        "        \"text\": \"[::text:]教學訊息\"\n",
        "      }\n",
        "    },\n",
        "    {\n",
        "      \"bounds\": {\n",
        "        \"x\": 1700,\n",
        "        \"y\": 858,\n",
        "        \"width\": 800,\n",
        "        \"height\": 810\n",
        "      },\n",
        "      \"action\": {\n",
        "        \"type\": \"message\",\n",
        "        \"text\": \"[::text:]more\"\n",
        "      }\n",
        "    }\n",
        "  ]\n",
        "}\n",
        "\"\"\""
      ]
    },
    {
      "cell_type": "code",
      "source": [
        "!pip install line-bot-sdk"
      ],
      "metadata": {
        "id": "RheAHfxxiNKR"
      },
      "execution_count": null,
      "outputs": []
    },
    {
      "cell_type": "code",
      "execution_count": null,
      "metadata": {
        "id": "t6lFvKJ3hszB"
      },
      "outputs": [],
      "source": [
        "\n",
        "'''\n",
        "\n",
        "用channel_access_token創建line_bot_api，預備用來跟Line進行溝通\n",
        "\n",
        "'''\n",
        "\n",
        "from linebot import (\n",
        "    LineBotApi, WebhookHandler\n",
        ")\n",
        "\n",
        "# 生成實體物件，跟line溝通用\n",
        "line_bot_api = LineBotApi(\"your channel access token\")"
      ]
    },
    {
      "cell_type": "code",
      "execution_count": null,
      "metadata": {
        "id": "JstOw--_hszB",
        "colab": {
          "base_uri": "https://localhost:8080/"
        },
        "outputId": "dac89b69-9e5c-4889-cd2e-99bfbfd969a4"
      },
      "outputs": [
        {
          "output_type": "stream",
          "name": "stdout",
          "text": [
            "richmenu-a6239a3ea010a88f4245c4d2ccf199e4\n"
          ]
        }
      ],
      "source": [
        "'''\n",
        "\n",
        "載入前面的圖文選單設定，\n",
        "\n",
        "並要求line_bot_api將圖文選單上傳至Line\n",
        "    \n",
        "\n",
        "'''\n",
        "\n",
        "from linebot.models import RichMenu\n",
        "import requests\n",
        "import json\n",
        "\n",
        "menuJson = json.loads(menuRawData)\n",
        "\n",
        "lineRichMenuId = line_bot_api.create_rich_menu(rich_menu=RichMenu.new_from_json_dict(menuJson))\n",
        "print(lineRichMenuId)"
      ]
    },
    {
      "cell_type": "code",
      "execution_count": null,
      "metadata": {
        "id": "290RqJaohszB",
        "colab": {
          "base_uri": "https://localhost:8080/"
        },
        "outputId": "553d995f-5ff6-4e24-80e4-f4895000ba50"
      },
      "outputs": [
        {
          "output_type": "stream",
          "name": "stdout",
          "text": [
            "None\n"
          ]
        }
      ],
      "source": [
        "'''\n",
        "\n",
        "將先前準備的菜單照片，以Post消息寄發給Line\n",
        "\n",
        "    載入照片\n",
        "    要求line_bot_api，將圖片傳到先前的圖文選單id\n",
        "\n",
        "\n",
        "'''\n",
        "\n",
        "\n",
        "uploadImageFile=open(\"blockchain_demo.jpg\",'rb')\n",
        "\n",
        "setImageResponse = line_bot_api.set_rich_menu_image(lineRichMenuId,'image/jpeg',uploadImageFile)\n",
        "\n",
        "print(setImageResponse)"
      ]
    },
    {
      "cell_type": "markdown",
      "source": [
        "# 新段落"
      ],
      "metadata": {
        "id": "4jJaisYUivq3"
      }
    },
    {
      "cell_type": "code",
      "execution_count": null,
      "metadata": {
        "id": "6EAJEIiRhszB",
        "colab": {
          "base_uri": "https://localhost:8080/"
        },
        "outputId": "c93d6912-5954-45cb-d062-e9e501a7a022"
      },
      "outputs": [
        {
          "output_type": "stream",
          "name": "stdout",
          "text": [
            "None\n"
          ]
        }
      ],
      "source": [
        "'''\n",
        "\n",
        "將選單綁定到特定用戶身上\n",
        "    取出上面得到的菜單Id及用戶id\n",
        "    要求line_bot_api告知Line，將用戶與圖文選單做綁定\n",
        "\n",
        "'''\n",
        "\n",
        "# https://api.line.me/v2/bot/user/{userId}/richmenu/{richMenuId}\n",
        "\n",
        "\n",
        "linkResult=line_bot_api.link_rich_menu_to_user(\"U64e856315f80175e21257c6e7eb77412\", lineRichMenuId)\n",
        "\n",
        "print(linkResult)"
      ]
    },
    {
      "cell_type": "code",
      "execution_count": null,
      "metadata": {
        "id": "9st-N-4fhszB",
        "colab": {
          "base_uri": "https://localhost:8080/"
        },
        "outputId": "27eaa8f8-7060-496b-fd78-c275a82e2a26"
      },
      "outputs": [
        {
          "output_type": "stream",
          "name": "stdout",
          "text": [
            "richmenu-a6239a3ea010a88f4245c4d2ccf199e4\n"
          ]
        }
      ],
      "source": [
        "'''\n",
        "\n",
        "檢視用戶目前所綁定的菜單\n",
        "    取出用戶id，並告知line_bot_api，\n",
        "    line_bot_api傳回用戶所綁定的菜單\n",
        "    印出\n",
        "\n",
        "'''\n",
        "\n",
        "#  https://api.line.me/v2/bot/user/{userId}/richmenu\n",
        "\n",
        "\n",
        "rich_menu_id = line_bot_api.get_rich_menu_id_of_user(\"U64e856315f80175e21257c6e7eb77412\")\n",
        "print(rich_menu_id)"
      ]
    },
    {
      "cell_type": "code",
      "execution_count": null,
      "metadata": {
        "id": "BCRnFZOEhszB"
      },
      "outputs": [],
      "source": [
        "'''\n",
        "\n",
        "解除選單與特定用戶的綁定\n",
        "    取出用戶id，並告知line_bot_api，\n",
        "    line_bot_api解除用戶所綁定的菜單\n",
        "'''\n",
        "\n",
        "lineUnregisterUserMenuResponse=line_bot_api.unlink_rich_menu_from_user(\"U64e856315f80175e21257c6e7eb77412\")\n",
        "print(lineUnregisterUserMenuResponse)"
      ]
    },
    {
      "cell_type": "code",
      "execution_count": null,
      "metadata": {
        "id": "s9aJU4y-hszB",
        "colab": {
          "base_uri": "https://localhost:8080/"
        },
        "outputId": "fd3e1039-6fd1-4ebd-9a0f-b2ea1f274820"
      },
      "outputs": [
        {
          "output_type": "stream",
          "name": "stdout",
          "text": [
            "richmenu-a6239a3ea010a88f4245c4d2ccf199e4\n"
          ]
        }
      ],
      "source": [
        "'''\n",
        "\n",
        "檢視帳號內，有哪些選單\n",
        "    要求line_bot_api，向line查詢我方的圖文選單列表\n",
        "    打印\n",
        "\n",
        "'''\n",
        "\n",
        "rich_menu_list = line_bot_api.get_rich_menu_list()\n",
        "for rich_menu in rich_menu_list:\n",
        "    print(rich_menu.rich_menu_id)"
      ]
    }
  ],
  "metadata": {
    "kernelspec": {
      "display_name": "Python 3",
      "language": "python",
      "name": "python3"
    },
    "language_info": {
      "codemirror_mode": {
        "name": "ipython",
        "version": 3
      },
      "file_extension": ".py",
      "mimetype": "text/x-python",
      "name": "python",
      "nbconvert_exporter": "python",
      "pygments_lexer": "ipython3",
      "version": "3.8.6"
    },
    "colab": {
      "provenance": [],
      "collapsed_sections": []
    }
  },
  "nbformat": 4,
  "nbformat_minor": 0
}