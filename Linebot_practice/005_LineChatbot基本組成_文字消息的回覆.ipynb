{
  "nbformat": 4,
  "nbformat_minor": 0,
  "metadata": {
    "colab": {
      "provenance": [],
      "collapsed_sections": []
    },
    "kernelspec": {
      "name": "python3",
      "display_name": "Python 3"
    }
  },
  "cells": [
    {
      "cell_type": "code",
      "metadata": {
        "id": "ylkDvkEfEZIw"
      },
      "source": [
        "'''\n",
        "掛載Google硬碟\n",
        "安裝套件\n",
        "引用套件\n",
        "APP應用準備\n",
        "消息素材準備\n",
        "handler執行方法設計\n",
        "啟動應用\n",
        "'''"
      ],
      "execution_count": null,
      "outputs": []
    },
    {
      "cell_type": "code",
      "metadata": {
        "id": "2mDqhB78Fxp6",
        "colab": {
          "base_uri": "https://localhost:8080/"
        },
        "outputId": "6161e8d9-5c1f-43a4-a3a0-42e7c622e686"
      },
      "source": [
        "'''\n",
        "資料 mapping 至google drive\n",
        "\n",
        "把資料寫在/content/drive\n",
        "\n",
        "即可保存在 google drive內\n",
        "'''\n",
        "from google.colab import drive\n",
        "drive.mount('/content/drive')"
      ],
      "execution_count": null,
      "outputs": [
        {
          "output_type": "stream",
          "name": "stdout",
          "text": [
            "Mounted at /content/drive\n"
          ]
        }
      ]
    },
    {
      "cell_type": "code",
      "metadata": {
        "id": "4iGRs1oYD6Ca"
      },
      "source": [
        "'''\n",
        "\n",
        "流程解析\n",
        "\n",
        "'''\n"
      ],
      "execution_count": null,
      "outputs": []
    },
    {
      "cell_type": "code",
      "metadata": {
        "id": "JyhJqq8KImyR"
      },
      "source": [
        "!pip install line-bot-sdk flask flask-ngrok"
      ],
      "execution_count": null,
      "outputs": []
    },
    {
      "cell_type": "code",
      "metadata": {
        "id": "rJDNE2TYEaYA"
      },
      "source": [
        "'''\n",
        "引用套件\n",
        "'''\n",
        "\n",
        "# 引用Web Server套件\n",
        "from flask import Flask, request, abort, jsonify\n",
        "\n",
        "# 載入json處理套件\n",
        "import json\n",
        "\n",
        "# 外部連結自動生成套件\n",
        "from flask_ngrok import run_with_ngrok\n",
        "\n",
        "# 從linebot 套件包裡引用 LineBotApi 與 WebhookHandler 類別\n",
        "from linebot import (\n",
        "    LineBotApi, WebhookHandler\n",
        ")\n",
        "\n",
        "# 引用無效簽章錯誤\n",
        "from linebot.exceptions import (\n",
        "    InvalidSignatureError\n",
        ")\n"
      ],
      "execution_count": null,
      "outputs": []
    },
    {
      "cell_type": "code",
      "metadata": {
        "id": "XssY97Y9Eahe"
      },
      "source": [
        "'''\n",
        "建置主程序app\n",
        "\n",
        "建置handler與 line_bot_api\n",
        "'''\n",
        "\n",
        "# 設定Server啟用細節。準備 app 這個 flask HTTP Application\n",
        "app = Flask(__name__, static_url_path = \"/material\" , static_folder = \"./material/\")\n",
        "# 請 ngrok 給我們一個 https 臨時 URL\n",
        "run_with_ngrok(app)\n",
        "\n",
        "# 生成實體物件，跟line溝通用\n",
        "line_bot_api = LineBotApi(\"your channel access token\")\n",
        "# 收發消息專用\n",
        "handler = WebhookHandler(\"your channel secret\")"
      ],
      "execution_count": null,
      "outputs": []
    },
    {
      "cell_type": "code",
      "metadata": {
        "id": "jyIFMBi4EvTl"
      },
      "source": [
        "'''\n",
        "建置主程序的API入口\n",
        "  接受Line傳過來的消息\n",
        "  並取出消息內容\n",
        "  將消息內容存在google drive的檔案內\n",
        "  並請handler 進行消息驗證與轉發\n",
        "'''\n",
        "\n",
        "# 啟動server對外接口，使Line能丟消息進來\n",
        "@app.route(\"/\", methods=['POST'])\n",
        "def callback():\n",
        "    # get X-Line-Signature header value，取得用戶簽章\n",
        "    signature = request.headers['X-Line-Signature']\n",
        "\n",
        "    # get request body as text，取得用戶的消息\n",
        "    body = request.get_data(as_text=True)\n",
        "    print(body)\n",
        "\n",
        "    # 記錄用戶log，把用戶傳來的消息紀錄下來\n",
        "    f = open(\"/content/drive/MyDrive/ai-event.log\", \"a\")\n",
        "    f.write(body)\n",
        "    f.close()\n",
        "\n",
        "    # handle webhook body。把消息交給handler做處理\n",
        "    try:\n",
        "        handler.handle(body, signature)\n",
        "    except InvalidSignatureError:\n",
        "        abort(400)\n",
        "\n",
        "    return 'OK'"
      ],
      "execution_count": null,
      "outputs": []
    },
    {
      "cell_type": "code",
      "metadata": {
        "id": "UD_P6AenKJ4W"
      },
      "source": [
        "'''\n",
        "消息素材準備\n",
        "'''\n",
        "\n",
        "# 將消息模型，文字收取消息與文字寄發消息 引入\n",
        "from linebot.models import (\n",
        "    MessageEvent, TextMessage, TextSendMessage, ImageSendMessage\n",
        ")\n",
        "# xxxxSendMessage，回應用戶的消息物件\n",
        "specific_text_message = TextSendMessage(\"官方建議，用戶以文字消息觸發特殊功能的時候，要加上特殊符號\")\n",
        "\n",
        "# 回應用戶的圖片消息，參數與line bot designer很類似。url需要是https網址，未來可以把圖片保存到cloud storage，會得到一個https網址\n",
        "analyze_truth_image_message = ImageSendMessage(\n",
        "      original_content_url='https://i.imgur.com/M8jnn9B.png',\n",
        "      preview_image_url='https://i.imgur.com/LtCtgg0.jpg'\n",
        "      )"
      ],
      "execution_count": null,
      "outputs": []
    },
    {
      "cell_type": "code",
      "metadata": {
        "id": "CsDjhbugRh9Z"
      },
      "source": [
        "'''\n",
        "設計一個字典，當用戶輸入相應文字消息時，系統根據字典回應消息。未來很可能是資料庫，把要回應的消息存在資料庫，從資料庫查找回應訊息\n",
        "'''\n",
        "\n",
        "# 根據自定義菜單四張故事線的圖，設定相對應image\n",
        "template_message_dict = {\n",
        "  \"@123\": specific_text_message,\n",
        "  \"@分析的本質\": analyze_truth_image_message\n",
        "}"
      ],
      "execution_count": null,
      "outputs": []
    },
    {
      "cell_type": "code",
      "metadata": {
        "id": "gUFnh86kQSzk"
      },
      "source": [
        "# 用戶發出文字消息時， 按條件內容, 回傳文字消息。用戶傳來的文字建議加上特殊符號\n",
        "# MessageEvent 是消息事件，有文字消息 TextMessage，圖片消息 ImageMessage，影片消息 VideoMessage 等。最多發五則消息\n",
        "@handler.add(MessageEvent, message=TextMessage)\n",
        "def handle_message(event):\n",
        "    if(event.message.text.find('@')!= -1):\n",
        "        line_bot_api.reply_message(\n",
        "        event.reply_token,\n",
        "        template_message_dict.get(event.message.text)\n",
        "        )\n",
        "    else:\n",
        "        line_bot_api.reply_message(\n",
        "        event.reply_token,         # 回郵信函，有時效性\n",
        "        TextSendMessage(text=\"字典內查無此字，請輸入@123或@分析的本質\")\n",
        "        )\n",
        "# Text Message 是用戶傳來的消息，TextSendMessage 是我們要傳給用戶的消息"
      ],
      "execution_count": null,
      "outputs": []
    },
    {
      "cell_type": "code",
      "metadata": {
        "id": "NVkYb65fHY9W",
        "colab": {
          "base_uri": "https://localhost:8080/"
        },
        "outputId": "2163101b-555e-47e8-e768-fb1f7c3fb5d2"
      },
      "source": [
        "# 主程序運行\n",
        "app.run()"
      ],
      "execution_count": null,
      "outputs": [
        {
          "output_type": "stream",
          "name": "stdout",
          "text": [
            " * Serving Flask app \"__main__\" (lazy loading)\n",
            " * Environment: production\n",
            "\u001b[31m   WARNING: This is a development server. Do not use it in a production deployment.\u001b[0m\n",
            "\u001b[2m   Use a production WSGI server instead.\u001b[0m\n",
            " * Debug mode: off\n"
          ]
        },
        {
          "output_type": "stream",
          "name": "stderr",
          "text": [
            "INFO:werkzeug: * Running on http://127.0.0.1:5000/ (Press CTRL+C to quit)\n"
          ]
        },
        {
          "output_type": "stream",
          "name": "stdout",
          "text": [
            " * Running on http://0ae7-35-221-229-103.ngrok.io\n",
            " * Traffic stats available on http://127.0.0.1:4040\n",
            "{\"destination\":\"Ude2ebddaef1e1b50ddbe960f037b8efe\",\"events\":[{\"type\":\"message\",\"message\":{\"type\":\"text\",\"id\":\"16910292665053\",\"text\":\"@123\"},\"webhookEventId\":\"01GERHKJFK22KP72GTX0BX7WVV\",\"deliveryContext\":{\"isRedelivery\":false},\"timestamp\":1665123600511,\"source\":{\"type\":\"user\",\"userId\":\"U64e856315f80175e21257c6e7eb77412\"},\"replyToken\":\"dc1dbea77dbc4fa28ebd91a181c134fc\",\"mode\":\"active\"}]}\n"
          ]
        },
        {
          "output_type": "stream",
          "name": "stderr",
          "text": [
            "INFO:werkzeug:127.0.0.1 - - [07/Oct/2022 06:20:02] \"\u001b[37mPOST / HTTP/1.1\u001b[0m\" 200 -\n",
            "ERROR:__main__:Exception on / [POST]\n",
            "Traceback (most recent call last):\n",
            "  File \"/usr/local/lib/python3.7/dist-packages/flask/app.py\", line 2447, in wsgi_app\n",
            "    response = self.full_dispatch_request()\n",
            "  File \"/usr/local/lib/python3.7/dist-packages/flask/app.py\", line 1952, in full_dispatch_request\n",
            "    rv = self.handle_user_exception(e)\n",
            "  File \"/usr/local/lib/python3.7/dist-packages/flask/app.py\", line 1821, in handle_user_exception\n",
            "    reraise(exc_type, exc_value, tb)\n",
            "  File \"/usr/local/lib/python3.7/dist-packages/flask/_compat.py\", line 39, in reraise\n",
            "    raise value\n",
            "  File \"/usr/local/lib/python3.7/dist-packages/flask/app.py\", line 1950, in full_dispatch_request\n",
            "    rv = self.dispatch_request()\n",
            "  File \"/usr/local/lib/python3.7/dist-packages/flask/app.py\", line 1936, in dispatch_request\n",
            "    return self.view_functions[rule.endpoint](**req.view_args)\n",
            "  File \"<ipython-input-5-db5f98947edd>\", line 26, in callback\n",
            "    handler.handle(body, signature)\n",
            "  File \"/usr/local/lib/python3.7/dist-packages/linebot/webhook.py\", line 259, in handle\n",
            "    self.__invoke_func(func, event, payload)\n",
            "  File \"/usr/local/lib/python3.7/dist-packages/linebot/webhook.py\", line 271, in __invoke_func\n",
            "    func(event)\n",
            "  File \"<ipython-input-8-223c4ecd546c>\", line 9, in handle_message\n",
            "    template_message_dict.get(event.message.text)\n",
            "  File \"/usr/local/lib/python3.7/dist-packages/linebot/api.py\", line 109, in reply_message\n",
            "    'messages': [message.as_json_dict() for message in messages],\n",
            "  File \"/usr/local/lib/python3.7/dist-packages/linebot/api.py\", line 109, in <listcomp>\n",
            "    'messages': [message.as_json_dict() for message in messages],\n",
            "AttributeError: 'NoneType' object has no attribute 'as_json_dict'\n",
            "INFO:werkzeug:127.0.0.1 - - [07/Oct/2022 06:20:07] \"\u001b[35m\u001b[1mPOST / HTTP/1.1\u001b[0m\" 500 -\n"
          ]
        },
        {
          "output_type": "stream",
          "name": "stdout",
          "text": [
            "{\"destination\":\"Ude2ebddaef1e1b50ddbe960f037b8efe\",\"events\":[{\"type\":\"message\",\"message\":{\"type\":\"text\",\"id\":\"16910293135642\",\"text\":\"@我\"},\"webhookEventId\":\"01GERHKRHD4XW4CXQR0TB9KTAN\",\"deliveryContext\":{\"isRedelivery\":false},\"timestamp\":1665123606944,\"source\":{\"type\":\"user\",\"userId\":\"U64e856315f80175e21257c6e7eb77412\"},\"replyToken\":\"77c3e92d32de47fc97d2115a61d9d082\",\"mode\":\"active\"}]}\n"
          ]
        },
        {
          "output_type": "stream",
          "name": "stderr",
          "text": [
            "INFO:werkzeug:127.0.0.1 - - [07/Oct/2022 06:20:18] \"\u001b[37mPOST / HTTP/1.1\u001b[0m\" 200 -\n"
          ]
        },
        {
          "output_type": "stream",
          "name": "stdout",
          "text": [
            "{\"destination\":\"Ude2ebddaef1e1b50ddbe960f037b8efe\",\"events\":[{\"type\":\"message\",\"message\":{\"type\":\"text\",\"id\":\"16910293893900\",\"text\":\"@123\"},\"webhookEventId\":\"01GERHM2JX8RA21G7NTA00SWEZ\",\"deliveryContext\":{\"isRedelivery\":false},\"timestamp\":1665123617218,\"source\":{\"type\":\"user\",\"userId\":\"U64e856315f80175e21257c6e7eb77412\"},\"replyToken\":\"dea75a147cb742e38eddd0b63390a106\",\"mode\":\"active\"}]}\n"
          ]
        },
        {
          "output_type": "stream",
          "name": "stderr",
          "text": [
            "INFO:werkzeug:127.0.0.1 - - [07/Oct/2022 06:20:36] \"\u001b[37mPOST / HTTP/1.1\u001b[0m\" 200 -\n"
          ]
        },
        {
          "output_type": "stream",
          "name": "stdout",
          "text": [
            "{\"destination\":\"Ude2ebddaef1e1b50ddbe960f037b8efe\",\"events\":[{\"type\":\"message\",\"message\":{\"type\":\"text\",\"id\":\"16910295252850\",\"text\":\"@123\"},\"webhookEventId\":\"01GERHMMXFBA3BXKJB3JGJBV9D\",\"deliveryContext\":{\"isRedelivery\":false},\"timestamp\":1665123635891,\"source\":{\"type\":\"user\",\"userId\":\"U64e856315f80175e21257c6e7eb77412\"},\"replyToken\":\"74f8fcfab5514a8ebb94e223245c91df\",\"mode\":\"active\"}]}\n"
          ]
        },
        {
          "output_type": "stream",
          "name": "stderr",
          "text": [
            "INFO:werkzeug:127.0.0.1 - - [07/Oct/2022 06:20:43] \"\u001b[37mPOST / HTTP/1.1\u001b[0m\" 200 -\n"
          ]
        },
        {
          "output_type": "stream",
          "name": "stdout",
          "text": [
            "{\"destination\":\"Ude2ebddaef1e1b50ddbe960f037b8efe\",\"events\":[]}\n"
          ]
        },
        {
          "output_type": "stream",
          "name": "stderr",
          "text": [
            "ERROR:__main__:Exception on / [POST]\n",
            "Traceback (most recent call last):\n",
            "  File \"/usr/local/lib/python3.7/dist-packages/flask/app.py\", line 2447, in wsgi_app\n",
            "    response = self.full_dispatch_request()\n",
            "  File \"/usr/local/lib/python3.7/dist-packages/flask/app.py\", line 1952, in full_dispatch_request\n",
            "    rv = self.handle_user_exception(e)\n",
            "  File \"/usr/local/lib/python3.7/dist-packages/flask/app.py\", line 1821, in handle_user_exception\n",
            "    reraise(exc_type, exc_value, tb)\n",
            "  File \"/usr/local/lib/python3.7/dist-packages/flask/_compat.py\", line 39, in reraise\n",
            "    raise value\n",
            "  File \"/usr/local/lib/python3.7/dist-packages/flask/app.py\", line 1950, in full_dispatch_request\n",
            "    rv = self.dispatch_request()\n",
            "  File \"/usr/local/lib/python3.7/dist-packages/flask/app.py\", line 1936, in dispatch_request\n",
            "    return self.view_functions[rule.endpoint](**req.view_args)\n",
            "  File \"<ipython-input-5-db5f98947edd>\", line 26, in callback\n",
            "    handler.handle(body, signature)\n",
            "  File \"/usr/local/lib/python3.7/dist-packages/linebot/webhook.py\", line 259, in handle\n",
            "    self.__invoke_func(func, event, payload)\n",
            "  File \"/usr/local/lib/python3.7/dist-packages/linebot/webhook.py\", line 271, in __invoke_func\n",
            "    func(event)\n",
            "  File \"<ipython-input-8-223c4ecd546c>\", line 9, in handle_message\n",
            "    template_message_dict.get(event.message.text)\n",
            "  File \"/usr/local/lib/python3.7/dist-packages/linebot/api.py\", line 109, in reply_message\n",
            "    'messages': [message.as_json_dict() for message in messages],\n",
            "  File \"/usr/local/lib/python3.7/dist-packages/linebot/api.py\", line 109, in <listcomp>\n",
            "    'messages': [message.as_json_dict() for message in messages],\n",
            "AttributeError: 'NoneType' object has no attribute 'as_json_dict'\n",
            "INFO:werkzeug:127.0.0.1 - - [07/Oct/2022 06:20:53] \"\u001b[35m\u001b[1mPOST / HTTP/1.1\u001b[0m\" 500 -\n"
          ]
        },
        {
          "output_type": "stream",
          "name": "stdout",
          "text": [
            "{\"destination\":\"Ude2ebddaef1e1b50ddbe960f037b8efe\",\"events\":[{\"type\":\"message\",\"message\":{\"type\":\"text\",\"id\":\"16910296433554\",\"text\":\"@轻微\"},\"webhookEventId\":\"01GERHN4SWNXT231E8QMDVCX9N\",\"deliveryContext\":{\"isRedelivery\":false},\"timestamp\":1665123651985,\"source\":{\"type\":\"user\",\"userId\":\"U64e856315f80175e21257c6e7eb77412\"},\"replyToken\":\"9f32b0c17fca4544b96f7e2e2030716f\",\"mode\":\"active\"}]}\n"
          ]
        },
        {
          "output_type": "stream",
          "name": "stderr",
          "text": [
            "INFO:werkzeug:127.0.0.1 - - [07/Oct/2022 06:21:04] \"\u001b[37mPOST / HTTP/1.1\u001b[0m\" 200 -\n"
          ]
        },
        {
          "output_type": "stream",
          "name": "stdout",
          "text": [
            "{\"destination\":\"Ude2ebddaef1e1b50ddbe960f037b8efe\",\"events\":[{\"type\":\"message\",\"message\":{\"type\":\"text\",\"id\":\"16910297249397\",\"text\":\"@123\"},\"webhookEventId\":\"01GERHNFM92HEDC703BQ64ZWT5\",\"deliveryContext\":{\"isRedelivery\":false},\"timestamp\":1665123663124,\"source\":{\"type\":\"user\",\"userId\":\"U64e856315f80175e21257c6e7eb77412\"},\"replyToken\":\"099942b844d34dffaab2e554b5c8b4b7\",\"mode\":\"active\"}]}\n"
          ]
        }
      ]
    }
  ]
}