{
  "cells": [
    {
      "cell_type": "code",
      "execution_count": null,
      "metadata": {
        "id": "ylkDvkEfEZIw"
      },
      "outputs": [],
      "source": [
        "'''\n",
        "掛載Google硬碟\n",
        "安裝套件\n",
        "引用套件\n",
        "APP應用準備\n",
        "消息準備\n",
        "handler執行方法設計\n",
        "啟動應用\n",
        "\n",
        "'''"
      ]
    },
    {
      "cell_type": "code",
      "execution_count": null,
      "metadata": {
        "id": "2mDqhB78Fxp6",
        "outputId": "778b3f85-0062-4d0e-8844-98fe7456d36e",
        "colab": {
          "base_uri": "https://localhost:8080/"
        }
      },
      "outputs": [
        {
          "output_type": "stream",
          "name": "stdout",
          "text": [
            "Mounted at /content/drive\n"
          ]
        }
      ],
      "source": [
        "'''\n",
        "\n",
        "資料 mapping 至google drive\n",
        "\n",
        "把資料寫在/content/drive\n",
        "\n",
        "即可保存在 google drive內\n",
        "\n",
        "'''\n",
        "from google.colab import drive\n",
        "drive.mount('/content/drive')"
      ]
    },
    {
      "cell_type": "code",
      "execution_count": null,
      "metadata": {
        "id": "JyhJqq8KImyR"
      },
      "outputs": [],
      "source": [
        "!pip install line-bot-sdk flask flask-ngrok"
      ]
    },
    {
      "cell_type": "code",
      "execution_count": null,
      "metadata": {
        "id": "rJDNE2TYEaYA"
      },
      "outputs": [],
      "source": [
        "'''\n",
        "引用套件\n",
        "'''\n",
        "\n",
        "# 引用Web Server套件\n",
        "from flask import Flask, request, abort, jsonify\n",
        "\n",
        "# 載入json處理套件\n",
        "import json\n",
        "\n",
        "# 外部連結自動生成套件\n",
        "from flask_ngrok import run_with_ngrok\n",
        "\n",
        "# 從linebot 套件包裡引用 LineBotApi 與 WebhookHandler 類別\n",
        "from linebot import (\n",
        "    LineBotApi, WebhookHandler\n",
        ")\n",
        "\n",
        "# 引用無效簽章錯誤\n",
        "from linebot.exceptions import (\n",
        "    InvalidSignatureError\n",
        ")\n"
      ]
    },
    {
      "cell_type": "code",
      "execution_count": null,
      "metadata": {
        "id": "XssY97Y9Eahe"
      },
      "outputs": [],
      "source": [
        "'''\n",
        "建置主程序\n",
        "\n",
        "建置handler與 line_bot_api\n",
        "'''\n",
        "\n",
        "# 設定Server啟用細節\n",
        "app = Flask(__name__,static_url_path = \"/material\" , static_folder = \"./material/\")\n",
        "run_with_ngrok(app)\n",
        "\n",
        "# 生成實體物件，跟line溝通用\n",
        "line_bot_api = LineBotApi(\"your channel access token\")\n",
        "# 收發消息專用\n",
        "handler = WebhookHandler(\"your channel secret\")"
      ]
    },
    {
      "cell_type": "code",
      "execution_count": null,
      "metadata": {
        "id": "jyIFMBi4EvTl"
      },
      "outputs": [],
      "source": [
        "'''\n",
        "建置主程序的API入口\n",
        "  接受Line傳過來的消息\n",
        "  並取出消息內容\n",
        "  將消息內容存在google drive的檔案內\n",
        "  並請handler 進行消息驗證與轉發\n",
        "'''\n",
        "\n",
        "# 啟動server對外接口，使Line能丟消息進來\n",
        "@app.route(\"/\", methods=['POST'])\n",
        "def callback():\n",
        "    # get X-Line-Signature header value\n",
        "    signature = request.headers['X-Line-Signature']\n",
        "\n",
        "    # get request body as text\n",
        "    body = request.get_data(as_text=True)\n",
        "    print(body)\n",
        "\n",
        "    # 記錄用戶log\n",
        "    f = open(\"/content/drive/MyDrive/ai-event.log\", \"a\")\n",
        "    f.write(body)\n",
        "    f.close()\n",
        "\n",
        "    # handle webhook body\n",
        "    try:\n",
        "        handler.handle(body, signature)\n",
        "    except InvalidSignatureError:\n",
        "        abort(400)\n",
        "\n",
        "    return 'OK'"
      ]
    },
    {
      "cell_type": "code",
      "execution_count": null,
      "metadata": {
        "id": "jojZfXmcacqS"
      },
      "outputs": [],
      "source": [
        "'''\n",
        "\n",
        "若收到圖片消息時，\n",
        "\n",
        "先回覆用戶文字消息，並從Line上將照片拿回。\n",
        "\n",
        "'''\n",
        "\n",
        "from linebot.models import(\n",
        "    MessageEvent, ImageMessage, VideoMessage, AudioMessage, TextSendMessage\n",
        ")\n",
        "\n",
        "@handler.add(MessageEvent, message=ImageMessage)\n",
        "def handle_message(event):\n",
        "    # 回應圖片上傳的id\n",
        "    line_bot_api.reply_message(\n",
        "        event.reply_token,\n",
        "        TextSendMessage(text='Image has Upload'+ ' ' + event.message.id))\n",
        "   \n",
        "    # 依據消息的id，向line索取檔案回來\n",
        "    message_content = line_bot_api.get_message_content(event.message.id)\n",
        "    # 存在本地檔，以圖片的方式儲存\n",
        "    with open(event.message.id+'.jpg', 'wb') as fd:\n",
        "        for chunk in message_content.iter_content():\n",
        "            fd.write(chunk)"
      ]
    },
    {
      "cell_type": "code",
      "execution_count": null,
      "metadata": {
        "id": "NVkYb65fHY9W"
      },
      "outputs": [],
      "source": [
        "'''\n",
        "影片消息，留給你\n",
        "'''\n",
        "\n",
        "@handler.add(MessageEvent, message=VideoMessage)\n",
        "def handle_message(event):\n",
        "    line_bot_api.reply_message(\n",
        "        event.reply_token,\n",
        "        TextSendMessage(text='Video has Upload'+ ' ' + event.message.id))\n",
        "    message_content = line_bot_api.get_message_content(event.message.id)\n",
        "    with open(event.message.id+'.mp4', 'wb') as fd:\n",
        "        for chunk in message_content.iter_content():\n",
        "            fd.write(chunk)"
      ]
    },
    {
      "cell_type": "code",
      "execution_count": null,
      "metadata": {
        "id": "H7hA7xfaQ25T"
      },
      "outputs": [],
      "source": [
        "'''\n",
        "音訊消息，留給你\n",
        "'''\n",
        "\n",
        "@handler.add(MessageEvent, message=AudioMessage)\n",
        "def handle_message(event):\n",
        "    line_bot_api.reply_message(\n",
        "        event.reply_token,\n",
        "        TextSendMessage(text='Audio has Upload'+ ' ' + event.message.id))\n",
        "    message_content = line_bot_api.get_message_content(event.message.id)\n",
        "    with open(event.message.id+'.mp3', 'wb') as fd:\n",
        "        for chunk in message_content.iter_content():\n",
        "            fd.write(chunk)"
      ]
    },
    {
      "cell_type": "code",
      "execution_count": null,
      "metadata": {
        "id": "0IONhIKOQ3Ih"
      },
      "outputs": [],
      "source": []
    },
    {
      "cell_type": "code",
      "execution_count": null,
      "metadata": {
        "id": "7UVshk_cQ3NQ",
        "colab": {
          "base_uri": "https://localhost:8080/"
        },
        "outputId": "2f7b87c1-6d50-44a9-b836-0157a1c7bf4e"
      },
      "outputs": [
        {
          "output_type": "stream",
          "name": "stdout",
          "text": [
            " * Serving Flask app \"__main__\" (lazy loading)\n",
            " * Environment: production\n",
            "\u001b[31m   WARNING: This is a development server. Do not use it in a production deployment.\u001b[0m\n",
            "\u001b[2m   Use a production WSGI server instead.\u001b[0m\n",
            " * Debug mode: off\n"
          ]
        },
        {
          "output_type": "stream",
          "name": "stderr",
          "text": [
            "INFO:werkzeug: * Running on http://127.0.0.1:5000/ (Press CTRL+C to quit)\n"
          ]
        },
        {
          "output_type": "stream",
          "name": "stdout",
          "text": [
            " * Running on http://1f6c-34-73-78-238.ngrok.io\n",
            " * Traffic stats available on http://127.0.0.1:4040\n",
            "{\"destination\":\"Ude2ebddaef1e1b50ddbe960f037b8efe\",\"events\":[{\"type\":\"message\",\"message\":{\"type\":\"image\",\"id\":\"16910580683273\",\"contentProvider\":{\"type\":\"line\"}},\"webhookEventId\":\"01GERN9308R9E0BF1SFBF5F8M3\",\"deliveryContext\":{\"isRedelivery\":false},\"timestamp\":1665127451213,\"source\":{\"type\":\"user\",\"userId\":\"U64e856315f80175e21257c6e7eb77412\"},\"replyToken\":\"fdc8fd4b93d54be8b8c6fc70e641edfb\",\"mode\":\"active\"}]}\n"
          ]
        },
        {
          "output_type": "stream",
          "name": "stderr",
          "text": [
            "INFO:werkzeug:127.0.0.1 - - [07/Oct/2022 07:24:14] \"\u001b[37mPOST / HTTP/1.1\u001b[0m\" 200 -\n"
          ]
        },
        {
          "output_type": "stream",
          "name": "stdout",
          "text": [
            "{\"destination\":\"Ude2ebddaef1e1b50ddbe960f037b8efe\",\"events\":[{\"type\":\"message\",\"message\":{\"type\":\"audio\",\"id\":\"16910583581082\",\"duration\":3452,\"contentProvider\":{\"type\":\"line\"}},\"webhookEventId\":\"01GERNA7BNNWQFJB9KRJ1GDYTT\",\"deliveryContext\":{\"isRedelivery\":false},\"timestamp\":1665127488653,\"source\":{\"type\":\"user\",\"userId\":\"U64e856315f80175e21257c6e7eb77412\"},\"replyToken\":\"390b34f5e5b644458b67ce65d82378ff\",\"mode\":\"active\"}]}\n"
          ]
        },
        {
          "output_type": "stream",
          "name": "stderr",
          "text": [
            "INFO:werkzeug:127.0.0.1 - - [07/Oct/2022 07:24:51] \"\u001b[37mPOST / HTTP/1.1\u001b[0m\" 200 -\n"
          ]
        },
        {
          "output_type": "stream",
          "name": "stdout",
          "text": [
            "{\"destination\":\"Ude2ebddaef1e1b50ddbe960f037b8efe\",\"events\":[{\"type\":\"message\",\"message\":{\"type\":\"video\",\"id\":\"16910587332437\",\"duration\":16732,\"contentProvider\":{\"type\":\"line\"}},\"webhookEventId\":\"01GERNBX8HN5549BJ8J30Z5CFB\",\"deliveryContext\":{\"isRedelivery\":false},\"timestamp\":1665127543578,\"source\":{\"type\":\"user\",\"userId\":\"U64e856315f80175e21257c6e7eb77412\"},\"replyToken\":\"8de35bb3e56e45679e05a3edec0c7085\",\"mode\":\"active\"}]}\n"
          ]
        },
        {
          "output_type": "stream",
          "name": "stderr",
          "text": [
            "INFO:werkzeug:127.0.0.1 - - [07/Oct/2022 07:25:47] \"\u001b[37mPOST / HTTP/1.1\u001b[0m\" 200 -\n"
          ]
        }
      ],
      "source": [
        "# 主程序運行\n",
        "app.run()"
      ]
    }
  ],
  "metadata": {
    "colab": {
      "collapsed_sections": [],
      "provenance": []
    },
    "kernelspec": {
      "display_name": "Python 3",
      "language": "python",
      "name": "python3"
    },
    "language_info": {
      "codemirror_mode": {
        "name": "ipython",
        "version": 3
      },
      "file_extension": ".py",
      "mimetype": "text/x-python",
      "name": "python",
      "nbconvert_exporter": "python",
      "pygments_lexer": "ipython3",
      "version": "3.8.6"
    }
  },
  "nbformat": 4,
  "nbformat_minor": 0
}