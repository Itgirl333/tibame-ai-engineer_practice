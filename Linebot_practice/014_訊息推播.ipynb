{
  "cells": [
    {
      "cell_type": "code",
      "execution_count": null,
      "metadata": {
        "id": "QUmyHyZ3cnZI",
        "colab": {
          "base_uri": "https://localhost:8080/"
        },
        "outputId": "dd166dd9-c210-4c58-c4be-7fcbc01ff79e"
      },
      "outputs": [
        {
          "output_type": "stream",
          "name": "stdout",
          "text": [
            "Mounted at /content/drive\n"
          ]
        }
      ],
      "source": [
        "'''\n",
        "\n",
        "資料 mapping 至google drive\n",
        "\n",
        "把資料寫在/content/drive\n",
        "\n",
        "即可保存在 google drive內\n",
        "\n",
        "'''\n",
        "from google.colab import drive\n",
        "drive.mount('/content/drive')"
      ]
    },
    {
      "cell_type": "code",
      "execution_count": null,
      "metadata": {
        "id": "IA4MtQz7c4vK",
        "colab": {
          "base_uri": "https://localhost:8080/"
        },
        "outputId": "15d154af-cb2e-4a49-b1b4-118450c62734"
      },
      "outputs": [
        {
          "output_type": "stream",
          "name": "stdout",
          "text": [
            "Installing collected packages: line-bot-sdk, flask-ngrok\n",
            "Successfully installed flask-ngrok-0.0.25 line-bot-sdk-2.3.0\n"
          ]
        }
      ],
      "source": [
        "'''\n",
        "\n",
        "'''\n",
        "\n",
        "!pip install line-bot-sdk flask flask-ngrok"
      ]
    },
    {
      "cell_type": "code",
      "execution_count": null,
      "metadata": {
        "id": "vznr93WgdCkd"
      },
      "outputs": [],
      "source": [
        "from linebot import (\n",
        "    LineBotApi, WebhookHandler\n",
        ")\n",
        "from linebot.models import (\n",
        "    \n",
        "    TextSendMessage\n",
        ")\n"
      ]
    },
    {
      "cell_type": "code",
      "execution_count": null,
      "metadata": {
        "id": "gBxudgmsdMLj"
      },
      "outputs": [],
      "source": [
        "# 生成實體物件，跟line溝通用\n",
        "line_bot_api = LineBotApi(\"your channel access token\")"
      ]
    },
    {
      "cell_type": "code",
      "execution_count": null,
      "metadata": {
        "id": "N4IwX0MydOPN"
      },
      "outputs": [],
      "source": [
        "'''\n",
        "指定推播\n",
        "'''\n",
        "\n",
        "line_bot_api.push_message('U64e856315f80175e21257c6e7eb77412', TextSendMessage(text='Hello World!'))"
      ]
    },
    {
      "cell_type": "code",
      "execution_count": null,
      "metadata": {
        "id": "5JSs8yHpcc1a"
      },
      "outputs": [],
      "source": [
        "'''\n",
        "廣播\n",
        "'''\n",
        "\n",
        "import json\n",
        "json_object_strings = open(\"/content/drive/MyDrive/users.txt\",'r')\n",
        "json_array = []\n",
        "user_id_array = []\n",
        "\n",
        "for json_object_string in json_object_strings:\n",
        "    json_object = json.loads(json_object_string)\n",
        "    json_array.append(json_object)\n",
        "\n",
        "for user_record in json_array:\n",
        "    user_id_array.append(user_record.get(\"user_id\"))\n",
        "\n",
        "line_bot_api.multicast(\n",
        "    user_id_array,\n",
        "    TextSendMessage(text='Hello World!')\n",
        ")"
      ]
    },
    {
      "cell_type": "code",
      "execution_count": null,
      "metadata": {
        "id": "0YUQOJyRZepG"
      },
      "outputs": [],
      "source": []
    }
  ],
  "metadata": {
    "colab": {
      "collapsed_sections": [],
      "provenance": [],
      "toc_visible": true
    },
    "kernelspec": {
      "display_name": "Python 3",
      "language": "python",
      "name": "python3"
    },
    "language_info": {
      "codemirror_mode": {
        "name": "ipython",
        "version": 3
      },
      "file_extension": ".py",
      "mimetype": "text/x-python",
      "name": "python",
      "nbconvert_exporter": "python",
      "pygments_lexer": "ipython3",
      "version": "3.8.6"
    }
  },
  "nbformat": 4,
  "nbformat_minor": 0
}