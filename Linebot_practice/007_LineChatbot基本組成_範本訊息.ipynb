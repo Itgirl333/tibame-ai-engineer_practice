{
  "nbformat": 4,
  "nbformat_minor": 0,
  "metadata": {
    "colab": {
      "provenance": [],
      "collapsed_sections": []
    },
    "kernelspec": {
      "name": "python3",
      "display_name": "Python 3"
    }
  },
  "cells": [
    {
      "cell_type": "code",
      "metadata": {
        "id": "ylkDvkEfEZIw"
      },
      "source": [
        "'''\n",
        "掛載Google硬碟\n",
        "安裝套件\n",
        "引用套件\n",
        "APP應用準備\n",
        "消息準備\n",
        "handler執行方法設計\n",
        "啟動應用\n",
        "\n",
        "'''"
      ],
      "execution_count": null,
      "outputs": []
    },
    {
      "cell_type": "code",
      "metadata": {
        "id": "2mDqhB78Fxp6",
        "colab": {
          "base_uri": "https://localhost:8080/"
        },
        "outputId": "09bff356-384e-4e15-8832-aeaad0d7641e"
      },
      "source": [
        "'''\n",
        "\n",
        "資料 mapping 至google drive\n",
        "\n",
        "把資料寫在/content/drive\n",
        "\n",
        "即可保存在 google drive內\n",
        "\n",
        "'''\n",
        "from google.colab import drive\n",
        "drive.mount('/content/drive')"
      ],
      "execution_count": null,
      "outputs": [
        {
          "output_type": "stream",
          "name": "stdout",
          "text": [
            "Mounted at /content/drive\n"
          ]
        }
      ]
    },
    {
      "cell_type": "code",
      "metadata": {
        "id": "4iGRs1oYD6Ca"
      },
      "source": [
        "'''\n",
        "\n",
        "流程解析\n",
        "\n",
        "'''\n"
      ],
      "execution_count": null,
      "outputs": []
    },
    {
      "cell_type": "code",
      "metadata": {
        "id": "JyhJqq8KImyR"
      },
      "source": [
        "!pip install line-bot-sdk flask flask-ngrok"
      ],
      "execution_count": null,
      "outputs": []
    },
    {
      "cell_type": "code",
      "metadata": {
        "id": "rJDNE2TYEaYA"
      },
      "source": [
        "'''\n",
        "引用套件\n",
        "'''\n",
        "\n",
        "# 引用Web Server套件\n",
        "from flask import Flask, request, abort, jsonify\n",
        "\n",
        "# 載入json處理套件\n",
        "import json\n",
        "\n",
        "# 外部連結自動生成套件\n",
        "from flask_ngrok import run_with_ngrok\n",
        "\n",
        "# 從linebot 套件包裡引用 LineBotApi 與 WebhookHandler 類別\n",
        "from linebot import (\n",
        "    LineBotApi, WebhookHandler\n",
        ")\n",
        "\n",
        "# 引用無效簽章錯誤\n",
        "from linebot.exceptions import (\n",
        "    InvalidSignatureError\n",
        ")\n"
      ],
      "execution_count": null,
      "outputs": []
    },
    {
      "cell_type": "code",
      "metadata": {
        "id": "XssY97Y9Eahe"
      },
      "source": [
        "'''\n",
        "建置主程序\n",
        "\n",
        "建置handler與 line_bot_api\n",
        "'''\n",
        "\n",
        "# 設定Server啟用細節\n",
        "app = Flask(__name__, static_url_path = \"/material\" , static_folder = \"./material/\")\n",
        "run_with_ngrok(app)\n",
        "\n",
        "# 生成實體物件，跟line溝通用\n",
        "line_bot_api = LineBotApi(\"your channel access token\")\n",
        "# 收發消息專用\n",
        "handler = WebhookHandler(\"your channel secret\")"
      ],
      "execution_count": null,
      "outputs": []
    },
    {
      "cell_type": "code",
      "metadata": {
        "id": "jyIFMBi4EvTl"
      },
      "source": [
        "'''\n",
        "建置主程序的API入口\n",
        "  接受Line傳過來的消息\n",
        "  並取出消息內容\n",
        "  將消息內容存在google drive的檔案內\n",
        "  並請handler 進行消息驗證與轉發\n",
        "'''\n",
        "\n",
        "# 啟動server對外接口，使Line能丟消息進來\n",
        "@app.route(\"/\", methods=['POST'])\n",
        "def callback():\n",
        "    # get X-Line-Signature header value\n",
        "    signature = request.headers['X-Line-Signature']\n",
        "\n",
        "    # get request body as text\n",
        "    body = request.get_data(as_text=True)\n",
        "    print(body)\n",
        "\n",
        "    # 記錄用戶log\n",
        "    f = open(\"/content/drive/MyDrive/ai-event.log\", \"a\")\n",
        "    f.write(body)\n",
        "    f.close()\n",
        "\n",
        "    # handle webhook body\n",
        "    try:\n",
        "        handler.handle(body, signature)\n",
        "    except InvalidSignatureError:\n",
        "        abort(400)\n",
        "\n",
        "    return 'OK'"
      ],
      "execution_count": null,
      "outputs": []
    },
    {
      "cell_type": "code",
      "metadata": {
        "id": "kpVdUJ0wTSli"
      },
      "source": [
        "'''\n",
        "Button篇\n",
        "    設定模板消息，指定其參數細節。\n",
        "\n",
        "'''\n",
        "\n",
        "\n",
        "#引入所需要的消息與模板消息\n",
        "from linebot.models import (\n",
        "    MessageEvent, TemplateSendMessage , PostbackEvent\n",
        ")\n",
        "\n",
        "#引入按鍵模板\n",
        "from linebot.models.template import(\n",
        "    ButtonsTemplate\n",
        ")\n",
        "\n",
        "\n",
        "'''\n",
        "alt_text: Line簡覽視窗所出現的說明文字\n",
        "template: 所使用的模板\n",
        "ButtonsTemplate: 按鍵模板\n",
        "    thumbnail_image_url: 展示圖片\n",
        "    title: 標題\n",
        "    text: 說明文字\n",
        "    actions: 模板行為所使用的行為\n",
        "    data: 觸發postback後用戶回傳值，可以對其做商業邏輯處理\n",
        "\n",
        "'''\n",
        "# 其他 TemplateSendMessage\n",
        "# Python line-bot-sdk ConfirmTemplate\n",
        "# alt_text：初步檢視文字。title：標題。text：文字描述。action：按鍵，就是json\n",
        "# 按鍵範本最多只能有4個json\n",
        "buttons_template_message = TemplateSendMessage(\n",
        "    alt_text = 'Buttons template',\n",
        "    template = ButtonsTemplate(\n",
        "        title='有時出走：島嶼抒情手記',\n",
        "        text='旅行就是行所欲之事，就算只是換個地方發呆也是旅行的方式',\n",
        "        actions=[\n",
        "          {\n",
        "            \"type\": \"postback\",\n",
        "            \"label\": \"購買\",\n",
        "            \"text\": \"@我要購買\",\n",
        "            \"data\": \"Data1\"\n",
        "          },\n",
        "          {\n",
        "            \"type\": \"postback\",\n",
        "            \"label\": \"去官網\",\n",
        "            \"text\": \"@我要去官網\",\n",
        "            \"data\": \"Data2\"\n",
        "          },          \n",
        "          {\n",
        "            \"type\": \"uri\",\n",
        "            \"label\": \"打開攝像頭\",\n",
        "            \"uri\": \"https://line.me/R/nv/camera/\",\n",
        "          },          \n",
        "          {\n",
        "            \"type\": \"uri\",\n",
        "            \"label\": \"打電話\",\n",
        "            \"uri\": \"tel://0919380685\",\n",
        "          }\n",
        "        ],\n",
        "  )\n",
        ")"
      ],
      "execution_count": null,
      "outputs": []
    },
    {
      "cell_type": "code",
      "metadata": {
        "id": "CsDjhbugRh9Z"
      },
      "source": [
        "'''\n",
        "\n",
        "設計一個字典\n",
        "    當用戶輸入相應文字消息時，系統會從此挑揀消息\n",
        "\n",
        "'''\n",
        "\n",
        "# 將消息模型，文字收取消息與文字寄發消息 引入\n",
        "from linebot.models import (\n",
        "    MessageEvent, TextMessage, TextSendMessage, ImageSendMessage\n",
        ")\n",
        "\n",
        "# 根據自定義菜單四張故事線的圖，設定相對應image\n",
        "template_message_dict = {\n",
        "  \"@more\":buttons_template_message,\n",
        "}"
      ],
      "execution_count": null,
      "outputs": []
    },
    {
      "cell_type": "code",
      "metadata": {
        "id": "gUFnh86kQSzk"
      },
      "source": [
        "# 用戶發出文字消息時， 按條件內容, 回傳文字消息\n",
        "@handler.add(MessageEvent, message=TextMessage)\n",
        "def handle_message(event):\n",
        "    \n",
        "    if(event.message.text.find('@')!= -1):\n",
        "        line_bot_api.reply_message(\n",
        "        event.reply_token,\n",
        "        template_message_dict.get(event.message.text)\n",
        "        )\n",
        "    else:\n",
        "        line_bot_api.reply_message(\n",
        "        event.reply_token,\n",
        "        TextSendMessage(text=\"字典內查無此字，請輸入@more\")\n",
        "        )"
      ],
      "execution_count": null,
      "outputs": []
    },
    {
      "cell_type": "code",
      "metadata": {
        "id": "dNFhpNPPTywd"
      },
      "source": [
        "#用戶點擊button後，觸發postback event，對其回傳做相對應處理\n",
        "\n",
        "@handler.add(PostbackEvent)\n",
        "def handle_post_message(event):\n",
        "    user_profile = line_bot_api.get_profile(event.source.user_id)\n",
        "    if (event.postback.data.find('Data1')== 0):\n",
        "        with open(\"user_profile_business.txt\", \"a\") as myfile:\n",
        "            myfile.write(json.dumps(vars(user_profile),sort_keys=True))\n",
        "            myfile.write('\\n')\n",
        "            line_bot_api.reply_message(\n",
        "            event.reply_token,\n",
        "                TextMessage(\n",
        "                    text='請稍待，會有專人與您聯繫'\n",
        "                )\n",
        "            )\n",
        "    elif (event.postback.data.find('Data2') == 0):\n",
        "        with open(\"user_profile_tutorial.txt\", \"a\") as myfile:\n",
        "            myfile.write(json.dumps(vars(user_profile),sort_keys=True))\n",
        "            myfile.write('\\n')\n",
        "            line_bot_api.reply_message(\n",
        "            event.reply_token,\n",
        "                TextMessage(\n",
        "                    text='請稍待，我們會派專家與您聯繫'\n",
        "                )\n",
        "            )\n",
        "    else:\n",
        "        pass"
      ],
      "execution_count": null,
      "outputs": []
    },
    {
      "cell_type": "code",
      "metadata": {
        "id": "NVkYb65fHY9W",
        "colab": {
          "base_uri": "https://localhost:8080/"
        },
        "outputId": "12df0320-feba-4d27-c627-63ee85637378"
      },
      "source": [
        "# 主程序運行\n",
        "app.run()"
      ],
      "execution_count": null,
      "outputs": [
        {
          "output_type": "stream",
          "name": "stdout",
          "text": [
            " * Serving Flask app \"__main__\" (lazy loading)\n",
            " * Environment: production\n",
            "\u001b[31m   WARNING: This is a development server. Do not use it in a production deployment.\u001b[0m\n",
            "\u001b[2m   Use a production WSGI server instead.\u001b[0m\n",
            " * Debug mode: off\n"
          ]
        },
        {
          "output_type": "stream",
          "name": "stderr",
          "text": [
            "INFO:werkzeug: * Running on http://127.0.0.1:5000/ (Press CTRL+C to quit)\n"
          ]
        },
        {
          "output_type": "stream",
          "name": "stdout",
          "text": [
            " * Running on http://150b-35-230-99-80.ngrok.io\n",
            " * Traffic stats available on http://127.0.0.1:4040\n",
            "{\"destination\":\"Ude2ebddaef1e1b50ddbe960f037b8efe\",\"events\":[]}\n"
          ]
        },
        {
          "output_type": "stream",
          "name": "stderr",
          "text": [
            "INFO:werkzeug:127.0.0.1 - - [07/Oct/2022 05:45:18] \"\u001b[37mPOST / HTTP/1.1\u001b[0m\" 200 -\n"
          ]
        },
        {
          "output_type": "stream",
          "name": "stdout",
          "text": [
            "{\"destination\":\"Ude2ebddaef1e1b50ddbe960f037b8efe\",\"events\":[{\"type\":\"message\",\"message\":{\"type\":\"text\",\"id\":\"16910144641078\",\"text\":\"@more\"},\"webhookEventId\":\"01GERFMKV06TXM2BEYTP2QGJ1B\",\"deliveryContext\":{\"isRedelivery\":false},\"timestamp\":1665121537562,\"source\":{\"type\":\"user\",\"userId\":\"U64e856315f80175e21257c6e7eb77412\"},\"replyToken\":\"2a399aad5e12401ab7849fa08fbdb7b8\",\"mode\":\"active\"}]}\n"
          ]
        },
        {
          "output_type": "stream",
          "name": "stderr",
          "text": [
            "INFO:werkzeug:127.0.0.1 - - [07/Oct/2022 05:45:38] \"\u001b[37mPOST / HTTP/1.1\u001b[0m\" 200 -\n"
          ]
        },
        {
          "output_type": "stream",
          "name": "stdout",
          "text": [
            "{\"destination\":\"Ude2ebddaef1e1b50ddbe960f037b8efe\",\"events\":[{\"type\":\"postback\",\"postback\":{\"data\":\"Data1\"},\"webhookEventId\":\"01GERFMV6TP6K3BAJJ3Z0Y85S9\",\"deliveryContext\":{\"isRedelivery\":false},\"timestamp\":1665121545161,\"source\":{\"type\":\"user\",\"userId\":\"U64e856315f80175e21257c6e7eb77412\"},\"replyToken\":\"81deda27437b4fa4a975c618c94f799e\",\"mode\":\"active\"}]}\n"
          ]
        },
        {
          "output_type": "stream",
          "name": "stderr",
          "text": [
            "INFO:werkzeug:127.0.0.1 - - [07/Oct/2022 05:45:46] \"\u001b[37mPOST / HTTP/1.1\u001b[0m\" 200 -\n",
            "INFO:werkzeug:127.0.0.1 - - [07/Oct/2022 05:45:46] \"\u001b[37mPOST / HTTP/1.1\u001b[0m\" 200 -\n"
          ]
        },
        {
          "output_type": "stream",
          "name": "stdout",
          "text": [
            "{\"destination\":\"Ude2ebddaef1e1b50ddbe960f037b8efe\",\"events\":[{\"type\":\"message\",\"message\":{\"type\":\"text\",\"id\":\"16910145175288\",\"text\":\"[::text:]尋找BD\"},\"webhookEventId\":\"01GERFMV6WKSWK9YBS5YTB4R4V\",\"deliveryContext\":{\"isRedelivery\":false},\"timestamp\":1665121545162,\"source\":{\"type\":\"user\",\"userId\":\"U64e856315f80175e21257c6e7eb77412\"},\"replyToken\":\"3ad7a6227f0247ac8f9febac068825cb\",\"mode\":\"active\"}]}\n",
            "{\"destination\":\"Ude2ebddaef1e1b50ddbe960f037b8efe\",\"events\":[{\"type\":\"postback\",\"postback\":{\"data\":\"Data2\"},\"webhookEventId\":\"01GERFPNK4YZF98B10SJC1NJES\",\"deliveryContext\":{\"isRedelivery\":false},\"timestamp\":1665121605018,\"source\":{\"type\":\"user\",\"userId\":\"U64e856315f80175e21257c6e7eb77412\"},\"replyToken\":\"ab392f4be944436ebb196b245a5a85de\",\"mode\":\"active\"}]}\n"
          ]
        },
        {
          "output_type": "stream",
          "name": "stderr",
          "text": [
            "INFO:werkzeug:127.0.0.1 - - [07/Oct/2022 05:46:46] \"\u001b[37mPOST / HTTP/1.1\u001b[0m\" 200 -\n",
            "INFO:werkzeug:127.0.0.1 - - [07/Oct/2022 05:46:46] \"\u001b[37mPOST / HTTP/1.1\u001b[0m\" 200 -\n"
          ]
        },
        {
          "output_type": "stream",
          "name": "stdout",
          "text": [
            "{\"destination\":\"Ude2ebddaef1e1b50ddbe960f037b8efe\",\"events\":[{\"type\":\"message\",\"message\":{\"type\":\"text\",\"id\":\"16910149301835\",\"text\":\"[::text:]求助專家\"},\"webhookEventId\":\"01GERFPNK66MM4QN9C2404PRSA\",\"deliveryContext\":{\"isRedelivery\":false},\"timestamp\":1665121605018,\"source\":{\"type\":\"user\",\"userId\":\"U64e856315f80175e21257c6e7eb77412\"},\"replyToken\":\"70fbbce1773443138549cf316846764e\",\"mode\":\"active\"}]}\n",
            "{\"destination\":\"Ude2ebddaef1e1b50ddbe960f037b8efe\",\"events\":[{\"type\":\"message\",\"message\":{\"type\":\"text\",\"id\":\"16910187646786\",\"text\":\"@more\"},\"webhookEventId\":\"01GERG7GTDYZQK765ESXZ23HEP\",\"deliveryContext\":{\"isRedelivery\":false},\"timestamp\":1665122157173,\"source\":{\"type\":\"user\",\"userId\":\"U64e856315f80175e21257c6e7eb77412\"},\"replyToken\":\"3813dc3d677b4ae48bdc1b7f397976a1\",\"mode\":\"active\"}]}\n"
          ]
        },
        {
          "output_type": "stream",
          "name": "stderr",
          "text": [
            "INFO:werkzeug:127.0.0.1 - - [07/Oct/2022 05:55:58] \"\u001b[37mPOST / HTTP/1.1\u001b[0m\" 200 -\n"
          ]
        }
      ]
    }
  ]
}