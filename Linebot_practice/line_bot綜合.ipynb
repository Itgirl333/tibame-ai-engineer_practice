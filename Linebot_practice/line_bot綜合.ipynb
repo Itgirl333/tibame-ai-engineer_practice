{
  "nbformat": 4,
  "nbformat_minor": 0,
  "metadata": {
    "colab": {
      "provenance": [],
      "collapsed_sections": []
    },
    "kernelspec": {
      "name": "python3",
      "display_name": "Python 3"
    },
    "language_info": {
      "name": "python"
    }
  },
  "cells": [
    {
      "cell_type": "code",
      "execution_count": null,
      "metadata": {
        "id": "0TlGGpR49aEG"
      },
      "outputs": [],
      "source": [
        "!pip install line-bot-sdk flask flask-ngrok\n",
        "# !pip install translate\n",
        "!pip install --upgrade wenxin-api\n",
        "!pip install opencc-python-reimplemented\n",
        "from google.colab import drive\n",
        "drive.mount('/content/drive')"
      ]
    },
    {
      "cell_type": "code",
      "source": [
        "from flask import Flask, request, abort, jsonify\n",
        "from flask_ngrok import run_with_ngrok\n",
        "# from translate import Translator\n",
        "import wenxin_api\n",
        "from wenxin_api.tasks.text_to_image import TextToImage\n",
        "from wenxin_api.tasks.composition import Composition\n",
        "from wenxin_api.tasks.free_qa import FreeQA\n",
        "\n",
        "from opencc import OpenCC\n",
        "import requests\n",
        "import json\n",
        "\n",
        "from linebot import LineBotApi, WebhookHandler\n",
        "from linebot.exceptions import InvalidSignatureError\n",
        "from linebot.models.events import FollowEvent\n",
        "from linebot.models import *\n",
        "from linebot.models.template import ButtonsTemplate, CarouselTemplate, ConfirmTemplate, ImageCarouselTemplate"
      ],
      "metadata": {
        "id": "qgsEXC2c9jg8"
      },
      "execution_count": null,
      "outputs": []
    },
    {
      "cell_type": "code",
      "source": [
        "# 文字生圖。目前支持风格有：油画、水彩画、卡通、粉笔画、儿童画、蜡笔画\n",
        "def text_to_image(input_text, style = \"水彩画\"):\n",
        "    input_text = OpenCC('tw2s').convert(input_text)\n",
        "    input_dict = {\n",
        "        \"text\": input_text,\n",
        "        \"style\": style\n",
        "    }\n",
        "    rst = TextToImage.create(**input_dict)\n",
        "    return rst['imgUrls']\n",
        "\n",
        "\n",
        "# 寫文章\n",
        "def zuowen(input_text):\n",
        "    input_text = OpenCC('tw2s').convert(input_text)\n",
        "    input_dict = {\n",
        "        \"text\": f\"作文题目：{input_text}\\n内容：\",\n",
        "        \"seq_len\": 128,\n",
        "        \"topp\": 0.6,\n",
        "        \"penalty_score\": 1.2,\n",
        "        \"min_dec_len\": 2,\n",
        "        \"min_dec_penalty_text\": \"。?：！[<S>]\",\n",
        "        \"is_unidirectional\": 0,\n",
        "        \"task_prompt\": \"zuowen\",\n",
        "        \"mask_type\": \"paragraph\"\n",
        "    }\n",
        "    rst = Composition.create(**input_dict)\n",
        "    return OpenCC('s2tw').convert(rst['result'])\n",
        "\n",
        "\n",
        "# 自由問答\n",
        "def qa(input_text):\n",
        "    input_text = OpenCC('tw2s').convert(input_text)\n",
        "    input_dict = {\n",
        "        \"text\": f\"问题：{input_text}\\n回答：\",\n",
        "        \"seq_len\": 128,\n",
        "        \"topp\": 0.6,\n",
        "        \"penalty_score\": 1.2,\n",
        "        \"min_dec_len\": 2,\n",
        "        \"min_dec_penalty_text\": \"。?：！[<S>]\",\n",
        "        \"is_unidirectional\": 0,\n",
        "        \"task_prompt\": \"qa\",\n",
        "        \"mask_type\": \"paragraph\"\n",
        "    }\n",
        "    rst = FreeQA.create(**input_dict)\n",
        "    return OpenCC('s2tw').convert(rst['result'])"
      ],
      "metadata": {
        "id": "yf2N6hOKxcIO"
      },
      "execution_count": null,
      "outputs": []
    },
    {
      "cell_type": "code",
      "source": [
        "# 生成歌詞\n",
        "def lyric_generate(input_text):\n",
        "    url = \"https://wenxin.baidu.com/wenxin/demo/genlyrics\"\n",
        "    payload = {\n",
        "        'keyWord': '[\"' + input_text + '\"]',\n",
        "        'name': '歌词'\n",
        "    }\n",
        "    headers = {\n",
        "        'Content-Type': 'application/x-www-form-urlencoded',\n",
        "        'Cookie': 'BAIDUID=9B0A87B3977A05C8B4A2D700254754D4:FG=1'\n",
        "    }\n",
        "\n",
        "    res = requests.post(url, headers=headers, data=payload)\n",
        "    result = res.json()['content']['result']\n",
        "    verse = \"\"\n",
        "    chorus = \"\"\n",
        "    if '主歌' in result:\n",
        "        verse = result.split('主歌\\n')[-1]\n",
        "        if '副歌' in verse:\n",
        "            chorus = OpenCC('s2tw').convert(verse.split('副歌\\n')[-1])\n",
        "            verse = OpenCC('s2tw').convert(verse.split('副歌\\n')[0])\n",
        "\n",
        "    with open(\"/content/drive/MyDrive/lyric.json\", encoding='utf8') as f:\n",
        "        jd = json.load(f)\n",
        "\n",
        "    jd[0]['contents']['body']['contents'][0]['text'] = input_text\n",
        "    jd[0]['contents']['body']['contents'][1]['contents'][0]['contents'][1]['text'] = verse\n",
        "    jd[0]['contents']['body']['contents'][1]['contents'][1]['contents'][1]['text'] = chorus\n",
        "    lyric_message = FlexSendMessage.new_from_json_dict(jd[0])\n",
        "    return lyric_message"
      ],
      "metadata": {
        "id": "MLLzdOTku1E6"
      },
      "execution_count": null,
      "outputs": []
    },
    {
      "cell_type": "code",
      "source": [
        "def detect_json_array_to_new_message_array(fileName):\n",
        "    with open(fileName, encoding='utf8') as f:\n",
        "        jsonArray = json.load(f)\n",
        "    \n",
        "    returnArray = []\n",
        "    for jsonObject in jsonArray:\n",
        "        message_type = jsonObject.get('type')\n",
        "        if message_type == 'text':\n",
        "            returnArray.append(TextSendMessage.new_from_json_dict(jsonObject))\n",
        "        elif message_type == 'imagemap':\n",
        "            returnArray.append(ImagemapSendMessage.new_from_json_dict(jsonObject))\n",
        "        elif message_type == 'template':\n",
        "            returnArray.append(TemplateSendMessage.new_from_json_dict(jsonObject))\n",
        "        elif message_type == 'image':\n",
        "            returnArray.append(ImageSendMessage.new_from_json_dict(jsonObject))\n",
        "        elif message_type == 'sticker':\n",
        "            returnArray.append(StickerSendMessage.new_from_json_dict(jsonObject))  \n",
        "        elif message_type == 'audio':\n",
        "            returnArray.append(AudioSendMessage.new_from_json_dict(jsonObject))  \n",
        "        elif message_type == 'location':\n",
        "            returnArray.append(LocationSendMessage.new_from_json_dict(jsonObject))\n",
        "        elif message_type == 'flex':\n",
        "            returnArray.append(FlexSendMessage.new_from_json_dict(jsonObject))  \n",
        "        elif message_type == 'video':\n",
        "            returnArray.append(VideoSendMessage.new_from_json_dict(jsonObject))    \n",
        "\n",
        "    return returnArray"
      ],
      "metadata": {
        "id": "jpjCOOzSURP9"
      },
      "execution_count": null,
      "outputs": []
    },
    {
      "cell_type": "code",
      "source": [
        "list_message = detect_json_array_to_new_message_array(\"/content/drive/MyDrive/list.json\")\n",
        "text_message1 = TextSendMessage(\"請用中文輸入prompt，您可以这样描述：圖片主體，細節詞，修飾詞\")\n",
        "text_message2 = TextSendMessage(\"請用中文輸入文章的關鍵詞\")\n",
        "text_message3 = TextSendMessage(\"請用中文輸入你的問題\")\n",
        "quickreply_message = detect_json_array_to_new_message_array(\"/content/drive/MyDrive/quickreply.json\")\n",
        "text_message4 = TextSendMessage(\"正在創作中，請稍候...\")\n",
        "image_message = detect_json_array_to_new_message_array(\"/content/drive/MyDrive/img.json\")\n",
        "template_message = detect_json_array_to_new_message_array(\"/content/drive/MyDrive/temp.json\")\n",
        "flex_message = detect_json_array_to_new_message_array(\"/content/drive/MyDrive/flex.json\")\n",
        "\n",
        "\n",
        "# message_dict = {\n",
        "#     \"我想要文字生圖\": text_message1,\n",
        "#     \"我想要生成文章\": text_message2,\n",
        "#     \"我想要自由問答\": lyric_message,\n",
        "#     \"我想要風格轉換\": quickreply_message\n",
        "# }"
      ],
      "metadata": {
        "id": "p9yf5fxZEkzF"
      },
      "execution_count": null,
      "outputs": []
    },
    {
      "cell_type": "code",
      "source": [
        "# def translate(content, from_lang, to_lang):\n",
        "#     translator= Translator(from_lang = from_lang, to_lang = to_lang)\n",
        "#     translation = translator.translate(content)\n",
        "#     return translation"
      ],
      "metadata": {
        "id": "aWqQuvM6kO7a"
      },
      "execution_count": null,
      "outputs": []
    },
    {
      "cell_type": "code",
      "source": [
        "app = Flask(__name__, static_url_path = \"/material\", static_folder = \"./material/\")\n",
        "run_with_ngrok(app)\n",
        "\n",
        "line_bot_api = LineBotApi(\"your channel access token\")\n",
        "handler = WebhookHandler(\"your channel secret\")\n",
        "wenxin_api.ak = \"your api key\"\n",
        "wenxin_api.sk = \"your secret key\"\n",
        "\n",
        "\n",
        "@app.route(\"/\", methods=['POST'])\n",
        "def callback():\n",
        "    signature = request.headers['X-Line-Signature']\n",
        "    body = request.get_data(as_text = True)\n",
        "    print(body)\n",
        "\n",
        "    with open(\"/content/drive/MyDrive/ai-event.log\", \"a\") as f:\n",
        "        f.write(body)\n",
        "\n",
        "    try:\n",
        "        handler.handle(body, signature)\n",
        "    except InvalidSignatureError:\n",
        "        abort(400)\n",
        "\n",
        "    return 'OK'"
      ],
      "metadata": {
        "id": "SbpIEPCn_kNv"
      },
      "execution_count": null,
      "outputs": []
    },
    {
      "cell_type": "code",
      "source": [
        "with open(\"/content/drive/MyDrive/menu.json\", encoding='utf8') as f:\n",
        "    menuJson = json.load(f)\n",
        "\n",
        "lineRichMenuId = line_bot_api.create_rich_menu(rich_menu = RichMenu.new_from_json_dict(menuJson))\n",
        "uploadImageFile = open(\"/content/drive/MyDrive/menu.jpg\", 'rb')\n",
        "setImageResponse = line_bot_api.set_rich_menu_image(lineRichMenuId, 'image/jpeg', uploadImageFile)\n",
        "\n",
        "\n",
        "@handler.add(FollowEvent)\n",
        "def reply_text_and_get_user_profile(event):\n",
        "    user_profile = line_bot_api.get_profile(event.source.user_id)\n",
        "    with open(\"/content/drive/MyDrive/users.txt\", \"a\") as f:\n",
        "        f.write(json.dumps(vars(user_profile), sort_keys=True))\n",
        "        f.write('\\n')\n",
        "\n",
        "    linkResult = line_bot_api.link_rich_menu_to_user(user_profile.user_id, lineRichMenuId)\n",
        "    line_bot_api.reply_message(\n",
        "        event.reply_token,\n",
        "        list_message            # [TextSendMessage(f'你好 {user_profile.display_name}，歡迎加入社群')]\n",
        "    )"
      ],
      "metadata": {
        "id": "xiu5jNVgAdMI"
      },
      "execution_count": null,
      "outputs": []
    },
    {
      "cell_type": "code",
      "source": [
        "# @handler.add(MessageEvent, message = TextMessage)\n",
        "# def handle_message(event):\n",
        "#     if (event.message.text.find('@') != -1):\n",
        "#         line_bot_api.reply_message(\n",
        "#         event.reply_token,\n",
        "#         message_dict.get(event.message.text)\n",
        "#         )\n",
        "#     else:\n",
        "#         line_bot_api.reply_message(\n",
        "#         event.reply_token,\n",
        "#         TextSendMessage(text = event.message.text)\n",
        "#         )"
      ],
      "metadata": {
        "id": "r6ji1q4ZCVmR"
      },
      "execution_count": null,
      "outputs": []
    },
    {
      "cell_type": "code",
      "source": [
        "@handler.add(MessageEvent, message = TextMessage)\n",
        "def handle_message(event):\n",
        "    # if (event.message.text.find('文字生圖') != -1):\n",
        "    #     line_bot_api.reply_message(\n",
        "    #     event.reply_token,\n",
        "    #     text_message1)     # message_dict.get(event.message.text)\n",
        "    # elif (event.message.text.find('生成文章') != -1):\n",
        "    #     line_bot_api.reply_message(\n",
        "    #     event.reply_token,\n",
        "    #     text_message2)\n",
        "    # elif (event.message.text.find('自由問答') != -1):\n",
        "    #     line_bot_api.reply_message(\n",
        "    #     event.reply_token,\n",
        "    #     lyric_message) \n",
        "    # elif (event.message.text.find('風格轉換') != -1):\n",
        "    #     line_bot_api.reply_message(\n",
        "    #     event.reply_token,\n",
        "    #     quickreply_message)  \n",
        "    # else:\n",
        "    #     line_bot_api.reply_message(\n",
        "    #     event.reply_token,\n",
        "    #     TextSendMessage(text = qa(event.message.text)))\n",
        "    line_bot_api.reply_message(\n",
        "    event.reply_token,\n",
        "    lyric_generate(event.message.text))\n",
        "    "
      ],
      "metadata": {
        "id": "xFUut-EhvYXF"
      },
      "execution_count": null,
      "outputs": []
    },
    {
      "cell_type": "code",
      "source": [
        "@handler.add(PostbackEvent)\n",
        "def handle_post_message(event):\n",
        "    user_profile = line_bot_api.get_profile(event.source.user_id)\n",
        "    if (event.postback.data.find('@文字生圖') == 0):\n",
        "        line_bot_api.reply_message(\n",
        "        event.reply_token,\n",
        "        TextSendMessage(text='請稍待，文字生圖'))\n",
        "    elif (event.postback.data.find('@生成文章') == 0):\n",
        "        line_bot_api.reply_message(\n",
        "        event.reply_token,\n",
        "        TextSendMessage(text='請稍待，生成文章'))\n",
        "    else:\n",
        "        pass"
      ],
      "metadata": {
        "id": "Q2_B2ewqfPtg"
      },
      "execution_count": null,
      "outputs": []
    },
    {
      "cell_type": "code",
      "source": [
        "@handler.add(MessageEvent, message = ImageMessage)\n",
        "def handle_message(event):\n",
        "    line_bot_api.reply_message(\n",
        "        event.reply_token,\n",
        "        TextSendMessage(text='圖片已收到，正在努力創作中，請稍候...'))\n",
        "    message_content = line_bot_api.get_message_content(event.message.id)\n",
        "    with open(event.message.id+'.jpg', 'wb') as f:\n",
        "        for chunk in message_content.iter_content():\n",
        "            f.write(chunk)"
      ],
      "metadata": {
        "id": "KbfCi5j-mL82"
      },
      "execution_count": null,
      "outputs": []
    },
    {
      "cell_type": "code",
      "source": [
        "@handler.add(MessageEvent, message = VideoMessage)\n",
        "def handle_message(event):\n",
        "    line_bot_api.reply_message(\n",
        "        event.reply_token,\n",
        "        TextSendMessage(text='Video has Upload'+ ' ' + event.message.id))\n",
        "    message_content = line_bot_api.get_message_content(event.message.id)\n",
        "    with open(event.message.id+'.mp4', 'wb') as f:\n",
        "        for chunk in message_content.iter_content():\n",
        "            f.write(chunk)"
      ],
      "metadata": {
        "id": "8VB3h8KomL_3"
      },
      "execution_count": null,
      "outputs": []
    },
    {
      "cell_type": "code",
      "source": [
        "@handler.add(MessageEvent, message = AudioMessage)\n",
        "def handle_message(event):\n",
        "    line_bot_api.reply_message(\n",
        "        event.reply_token,\n",
        "        TextSendMessage(text='Audio has Upload'+ ' ' + event.message.id))\n",
        "    message_content = line_bot_api.get_message_content(event.message.id)\n",
        "    with open(event.message.id+'.mp3', 'wb') as f:\n",
        "        for chunk in message_content.iter_content():\n",
        "            f.write(chunk)"
      ],
      "metadata": {
        "id": "qq6-g42mmMCO"
      },
      "execution_count": null,
      "outputs": []
    },
    {
      "cell_type": "code",
      "source": [
        "# 指定推播\n",
        "# line_bot_api.push_message('U64e856315f80175e21257c6e7eb77412', TextSendMessage(text = 'Hello World!'))\n",
        "\n",
        "# 廣播\n",
        "# json_object_strings = open(\"/content/drive/MyDrive/users.txt\", 'r')\n",
        "# json_array = []\n",
        "# user_id_array = []\n",
        "\n",
        "# for json_object_string in json_object_strings:\n",
        "#     json_object = json.loads(json_object_string)\n",
        "#     json_array.append(json_object)\n",
        "\n",
        "# for user_record in json_array:\n",
        "#     user_id_array.append(user_record.get(\"user_id\"))\n",
        "\n",
        "# line_bot_api.multicast(\n",
        "#     user_id_array,\n",
        "#     TextSendMessage(text = 'Hello World!')\n",
        "# )"
      ],
      "metadata": {
        "id": "x-2mi1-us2pl"
      },
      "execution_count": null,
      "outputs": []
    },
    {
      "cell_type": "code",
      "source": [
        "app.run()"
      ],
      "metadata": {
        "id": "30dWJ0daCrZe"
      },
      "execution_count": null,
      "outputs": []
    },
    {
      "cell_type": "code",
      "source": [],
      "metadata": {
        "id": "J2U1rOCOu08M"
      },
      "execution_count": null,
      "outputs": []
    },
    {
      "cell_type": "code",
      "source": [],
      "metadata": {
        "id": "T9QZaF9ru0-s"
      },
      "execution_count": null,
      "outputs": []
    },
    {
      "cell_type": "code",
      "source": [],
      "metadata": {
        "id": "cNgTWI5Xu1By"
      },
      "execution_count": null,
      "outputs": []
    },
    {
      "cell_type": "code",
      "source": [],
      "metadata": {
        "id": "DSCTcBSiujhI"
      },
      "execution_count": null,
      "outputs": []
    },
    {
      "cell_type": "code",
      "source": [
        "# !pip install paddlepaddle-gpu==2.3.2"
      ],
      "metadata": {
        "id": "sNVluI--sqRa"
      },
      "execution_count": null,
      "outputs": []
    },
    {
      "cell_type": "code",
      "source": [
        "# !git clone https://github.com/wzmsltw/PaintTransformer"
      ],
      "metadata": {
        "id": "E9zbbI7Qz7oY"
      },
      "execution_count": null,
      "outputs": []
    },
    {
      "cell_type": "code",
      "source": [
        "# !cd content/PaintTransformer\n",
        "# !mv [Download Directory]/paint_best.pdparams inference/"
      ],
      "metadata": {
        "id": "5ZnTz4dY1arc"
      },
      "execution_count": null,
      "outputs": []
    },
    {
      "cell_type": "code",
      "source": [
        "# from PaintTransformer.inference import inference\n",
        "# !python inference.py"
      ],
      "metadata": {
        "id": "00Ko1yI01tcs"
      },
      "execution_count": null,
      "outputs": []
    }
  ]
}