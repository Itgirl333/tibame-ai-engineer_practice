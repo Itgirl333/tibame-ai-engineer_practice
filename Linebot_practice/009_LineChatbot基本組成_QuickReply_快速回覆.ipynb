{
  "cells": [
    {
      "cell_type": "code",
      "execution_count": null,
      "metadata": {
        "id": "ylkDvkEfEZIw"
      },
      "outputs": [],
      "source": [
        "'''\n",
        "掛載Google硬碟\n",
        "安裝套件\n",
        "引用套件\n",
        "APP應用準備\n",
        "消息準備\n",
        "handler執行方法設計\n",
        "啟動應用\n",
        "\n",
        "'''"
      ]
    },
    {
      "cell_type": "code",
      "execution_count": null,
      "metadata": {
        "id": "2mDqhB78Fxp6",
        "colab": {
          "base_uri": "https://localhost:8080/"
        },
        "outputId": "94decb78-913d-49a6-9dcd-0c7d21a1416d"
      },
      "outputs": [
        {
          "output_type": "stream",
          "name": "stdout",
          "text": [
            "Mounted at /content/drive\n"
          ]
        }
      ],
      "source": [
        "'''\n",
        "\n",
        "資料 mapping 至google drive\n",
        "\n",
        "把資料寫在/content/drive\n",
        "\n",
        "即可保存在 google drive內\n",
        "\n",
        "'''\n",
        "from google.colab import drive\n",
        "drive.mount('/content/drive')"
      ]
    },
    {
      "cell_type": "code",
      "execution_count": null,
      "metadata": {
        "id": "4iGRs1oYD6Ca"
      },
      "outputs": [],
      "source": [
        "'''\n",
        "\n",
        "流程解析\n",
        "\n",
        "'''\n"
      ]
    },
    {
      "cell_type": "code",
      "execution_count": null,
      "metadata": {
        "id": "JyhJqq8KImyR"
      },
      "outputs": [],
      "source": [
        "!pip install line-bot-sdk flask flask-ngrok"
      ]
    },
    {
      "cell_type": "code",
      "execution_count": null,
      "metadata": {
        "id": "rJDNE2TYEaYA"
      },
      "outputs": [],
      "source": [
        "'''\n",
        "引用套件\n",
        "'''\n",
        "\n",
        "# 引用Web Server套件\n",
        "from flask import Flask, request, abort, jsonify\n",
        "\n",
        "# 載入json處理套件\n",
        "import json\n",
        "\n",
        "# 外部連結自動生成套件\n",
        "from flask_ngrok import run_with_ngrok\n",
        "\n",
        "# 從linebot 套件包裡引用 LineBotApi 與 WebhookHandler 類別\n",
        "from linebot import (\n",
        "    LineBotApi, WebhookHandler\n",
        ")\n",
        "\n",
        "# 引用無效簽章錯誤\n",
        "from linebot.exceptions import (\n",
        "    InvalidSignatureError\n",
        ")\n"
      ]
    },
    {
      "cell_type": "code",
      "execution_count": null,
      "metadata": {
        "id": "XssY97Y9Eahe"
      },
      "outputs": [],
      "source": [
        "'''\n",
        "建置主程序\n",
        "\n",
        "建置handler與 line_bot_api\n",
        "'''\n",
        "\n",
        "# 設定Server啟用細節\n",
        "app = Flask(__name__,static_url_path = \"/material\" , static_folder = \"./material/\")\n",
        "run_with_ngrok(app)\n",
        "\n",
        "# 生成實體物件，跟line溝通用\n",
        "line_bot_api = LineBotApi(\"your channel access token\")\n",
        "# 收發消息專用\n",
        "handler = WebhookHandler(\"your channel secret\")"
      ]
    },
    {
      "cell_type": "code",
      "execution_count": null,
      "metadata": {
        "id": "jyIFMBi4EvTl"
      },
      "outputs": [],
      "source": [
        "'''\n",
        "建置主程序的API入口\n",
        "  接受Line傳過來的消息\n",
        "  並取出消息內容\n",
        "  將消息內容存在google drive的檔案內\n",
        "  並請handler 進行消息驗證與轉發\n",
        "'''\n",
        "\n",
        "\n",
        "# 啟動server對外接口，使Line能丟消息進來\n",
        "@app.route(\"/\", methods=['POST'])\n",
        "def callback():\n",
        "    # get X-Line-Signature header value\n",
        "    signature = request.headers['X-Line-Signature']\n",
        "\n",
        "    # get request body as text\n",
        "    body = request.get_data(as_text=True)\n",
        "    print(body)\n",
        "\n",
        "    # 記錄用戶log\n",
        "    f = open(\"/content/drive/MyDrive/ai-event.log\", \"a\")\n",
        "    f.write(body)\n",
        "    f.close()\n",
        "\n",
        "    # handle webhook body\n",
        "    try:\n",
        "        handler.handle(body, signature)\n",
        "    except InvalidSignatureError:\n",
        "        abort(400)\n",
        "\n",
        "    return 'OK'"
      ]
    },
    {
      "cell_type": "code",
      "execution_count": null,
      "metadata": {
        "id": "CLJukg__Yaal"
      },
      "outputs": [],
      "source": [
        "'''\n",
        "QuickReply 快速回覆，有很多小按鍵，按鍵使用後就會消失\n",
        "準備 QuickReply 的 Button，必須先把按鍵準備好\n",
        "'''\n",
        "\n",
        "# 引入相關套件\n",
        "from linebot.models import (\n",
        "    MessageAction, URIAction,\n",
        "    PostbackAction, DatetimePickerAction,\n",
        "    CameraAction, CameraRollAction, LocationAction,\n",
        "    QuickReply, QuickReplyButton\n",
        ")\n",
        "\n",
        "# 創建QuickReplyButton \n",
        "\n",
        "# 點擊後，以用戶身份發送文字消息\n",
        "# QuickReplyButton，action 填 Action，MessageAction是以用戶身分發文字，label 是按鍵的文字，text是以用戶角度講的話\n",
        "textQuickReplyButton = QuickReplyButton(\n",
        "    action=MessageAction(\n",
        "        label=\"發送文字消息\", \n",
        "        text=\"text2\"\n",
        "    )\n",
        ")\n",
        "\n",
        "## 點擊後，彈跳出選擇時間之視窗\n",
        "## DatetimePickerAction\n",
        "# label是按鍵的恩茲，data是隱藏資料，mode data是用戶輸入的畫面是天數\n",
        "dateQuickReplyButton = QuickReplyButton(\n",
        "    action=DatetimePickerAction(\n",
        "        label=\"時間選擇\",\n",
        "        data=\"data3\",                       \n",
        "        mode=\"date\"\n",
        "    )\n",
        ")\n",
        "\n",
        "\n",
        "## 點擊後，開啟相機\n",
        "## CameraAction\n",
        "cameraQuickReplyButton = QuickReplyButton(\n",
        "    action = CameraAction(label=\"拍照\")\n",
        ")\n",
        "\n",
        "## 點擊後，切換至照片相簿選擇。可以讓用戶發圖片消息給我們\n",
        "cameraRollQRB = QuickReplyButton(\n",
        "    action = CameraRollAction(label=\"選擇照片\")\n",
        ")\n",
        "\n",
        "## 點擊後，跳出地理位置。可以引導用戶發地理位置消息給我們\n",
        "locationQRB = QuickReplyButton(\n",
        "    action = LocationAction(label=\"地理位置\")\n",
        ")\n",
        "\n",
        "## 點擊後，以Postback事件回應Server。利用data做很多特殊功能\n",
        "postbackQRB = QuickReplyButton(\n",
        "    action=PostbackAction(label=\"我是PostbackEvent\", data=\"Data1\")\n",
        ")"
      ]
    },
    {
      "cell_type": "code",
      "execution_count": null,
      "metadata": {
        "id": "wIN_RgjHYiKe"
      },
      "outputs": [],
      "source": [
        "'''\n",
        "\n",
        "以QuickReply封裝該些QuickReply Button\n",
        "\n",
        "'''\n",
        "## 設計 QuickReplyButton 的 List，list裡面放那些按鍵\n",
        "quickReplyList = QuickReply(\n",
        "    items = [textQuickReplyButton, dateQuickReplyButton, cameraQuickReplyButton, cameraRollQRB, locationQRB,postbackQRB]\n",
        ")"
      ]
    },
    {
      "cell_type": "code",
      "execution_count": null,
      "metadata": {
        "id": "QGQAcwWoYlb0"
      },
      "outputs": [],
      "source": [
        "'''\n",
        "\n",
        "製作TextSendMessage，並將剛封裝的QuickReply放入\n",
        "\n",
        "'''\n",
        "## 將quickReplyList 塞入TextSendMessage 中 \n",
        "from linebot.models import (\n",
        "    TextSendMessage,\n",
        ")\n",
        "# quickreply通常必須夾帶在xxxSendMessage的裡面，都會有quick_reply參數，此參數就是放QuickReply\n",
        "quick_reply_text_send_message = TextSendMessage(text='發送問題給用戶，請用戶回答', quick_reply=quickReplyList)"
      ]
    },
    {
      "cell_type": "code",
      "execution_count": null,
      "metadata": {
        "id": "CsDjhbugRh9Z"
      },
      "outputs": [],
      "source": [
        "'''\n",
        "\n",
        "設計一個字典\n",
        "    當用戶輸入相應文字消息時，系統會從此挑揀消息\n",
        "\n",
        "'''\n",
        "\n",
        "# 將消息模型，文字收取消息與文字寄發消息 引入\n",
        "from linebot.models import (\n",
        "    MessageEvent, TextMessage, TextSendMessage, ImageSendMessage\n",
        ")\n",
        "\n",
        "# 根據自定義菜單四張故事線的圖，設定相對應image\n",
        "template_message_dict = {\n",
        "  \"@reply\":quick_reply_text_send_message,\n",
        "}"
      ]
    },
    {
      "cell_type": "code",
      "execution_count": null,
      "metadata": {
        "id": "dNFhpNPPTywd"
      },
      "outputs": [],
      "source": [
        "#用戶點擊button後，觸發postback event，對其回傳做相對應處理\n",
        "from linebot.models import PostbackEvent\n",
        "\n",
        "@handler.add(PostbackEvent)\n",
        "def handle_post_message(event):\n",
        "    user_profile = line_bot_api.get_profile(event.source.user_id)\n",
        "    if (event.postback.data.find('Data1')== 0):\n",
        "        with open(\"user_profile_business.txt\", \"a\") as myfile:\n",
        "            myfile.write(json.dumps(vars(user_profile),sort_keys=True))\n",
        "            myfile.write('\\n')\n",
        "            line_bot_api.reply_message(\n",
        "            event.reply_token,\n",
        "                TextSendMessage(\n",
        "                    text='請稍待，會有專人與您聯繫'\n",
        "                )\n",
        "            )\n",
        "    elif (event.postback.data.find('Data2') == 0):\n",
        "        with open(\"user_profile_tutorial.txt\", \"a\") as myfile:\n",
        "            myfile.write(json.dumps(vars(user_profile),sort_keys=True))\n",
        "            myfile.write('\\n')\n",
        "            line_bot_api.reply_message(\n",
        "            event.reply_token,\n",
        "                TextSendMessage(\n",
        "                    text='請稍待，我們會派專家您聯繫'\n",
        "                )\n",
        "            )\n",
        "    else:\n",
        "        pass"
      ]
    },
    {
      "cell_type": "code",
      "execution_count": null,
      "metadata": {
        "id": "gUFnh86kQSzk"
      },
      "outputs": [],
      "source": [
        "# 用戶發出文字消息時， 按條件內容, 回傳文字消息\n",
        "# 為了要觸發字典裡的消息，設計當用戶發文字，就會回字典裡面找消息\n",
        "# 記得傳$reply給機器人\n",
        "@handler.add(MessageEvent, message=TextMessage)\n",
        "def handle_message(event):\n",
        "    \n",
        "    if(event.message.text.find('@')!= -1):\n",
        "        line_bot_api.reply_message(\n",
        "        event.reply_token,\n",
        "        template_message_dict.get(event.message.text)\n",
        "        )\n",
        "    else:\n",
        "        line_bot_api.reply_message(\n",
        "        event.reply_token,\n",
        "        TextSendMessage(text=\"字典內查無此字，請輸入@more\")\n",
        "        )"
      ]
    },
    {
      "cell_type": "code",
      "execution_count": null,
      "metadata": {
        "id": "NVkYb65fHY9W",
        "colab": {
          "base_uri": "https://localhost:8080/"
        },
        "outputId": "abb68cf6-df90-4e35-edf9-90c78f5dfc6d"
      },
      "outputs": [
        {
          "output_type": "stream",
          "name": "stdout",
          "text": [
            " * Serving Flask app \"__main__\" (lazy loading)\n",
            " * Environment: production\n",
            "\u001b[31m   WARNING: This is a development server. Do not use it in a production deployment.\u001b[0m\n",
            "\u001b[2m   Use a production WSGI server instead.\u001b[0m\n",
            " * Debug mode: off\n"
          ]
        },
        {
          "output_type": "stream",
          "name": "stderr",
          "text": [
            "INFO:werkzeug: * Running on http://127.0.0.1:5000/ (Press CTRL+C to quit)\n"
          ]
        },
        {
          "output_type": "stream",
          "name": "stdout",
          "text": [
            " * Running on http://4a56-35-231-143-110.ngrok.io\n",
            " * Traffic stats available on http://127.0.0.1:4040\n",
            "{\"destination\":\"Ude2ebddaef1e1b50ddbe960f037b8efe\",\"events\":[{\"type\":\"message\",\"message\":{\"type\":\"text\",\"id\":\"16910459280152\",\"text\":\"@reply\"},\"webhookEventId\":\"01GERKRK73ZT3887SHFASKFWNF\",\"deliveryContext\":{\"isRedelivery\":false},\"timestamp\":1665125862120,\"source\":{\"type\":\"user\",\"userId\":\"U64e856315f80175e21257c6e7eb77412\"},\"replyToken\":\"91572cce48a54b819107d369dd8387f4\",\"mode\":\"active\"}]}\n"
          ]
        },
        {
          "output_type": "stream",
          "name": "stderr",
          "text": [
            "INFO:werkzeug:127.0.0.1 - - [07/Oct/2022 06:57:43] \"\u001b[37mPOST / HTTP/1.1\u001b[0m\" 200 -\n"
          ]
        },
        {
          "output_type": "stream",
          "name": "stdout",
          "text": [
            "{\"destination\":\"Ude2ebddaef1e1b50ddbe960f037b8efe\",\"events\":[{\"type\":\"message\",\"message\":{\"type\":\"text\",\"id\":\"16910467366008\",\"text\":\"text2\"},\"webhookEventId\":\"01GERKVX51QJXSEFVBF129C4XB\",\"deliveryContext\":{\"isRedelivery\":false},\"timestamp\":1665125970702,\"source\":{\"type\":\"user\",\"userId\":\"U64e856315f80175e21257c6e7eb77412\"},\"replyToken\":\"ad29eeef81464c3194501c56f16933d0\",\"mode\":\"active\"}]}\n"
          ]
        },
        {
          "output_type": "stream",
          "name": "stderr",
          "text": [
            "INFO:werkzeug:127.0.0.1 - - [07/Oct/2022 06:59:32] \"\u001b[37mPOST / HTTP/1.1\u001b[0m\" 200 -\n"
          ]
        },
        {
          "output_type": "stream",
          "name": "stdout",
          "text": [
            "{\"destination\":\"Ude2ebddaef1e1b50ddbe960f037b8efe\",\"events\":[{\"type\":\"message\",\"message\":{\"type\":\"text\",\"id\":\"16910467984462\",\"text\":\"@reply\"},\"webhookEventId\":\"01GERKW4S5VKCGFB0RW5GVFRTD\",\"deliveryContext\":{\"isRedelivery\":false},\"timestamp\":1665125978845,\"source\":{\"type\":\"user\",\"userId\":\"U64e856315f80175e21257c6e7eb77412\"},\"replyToken\":\"821aeb962c534959996d06af81b3e81d\",\"mode\":\"active\"}]}\n"
          ]
        },
        {
          "output_type": "stream",
          "name": "stderr",
          "text": [
            "INFO:werkzeug:127.0.0.1 - - [07/Oct/2022 06:59:39] \"\u001b[37mPOST / HTTP/1.1\u001b[0m\" 200 -\n"
          ]
        },
        {
          "output_type": "stream",
          "name": "stdout",
          "text": [
            "{\"destination\":\"Ude2ebddaef1e1b50ddbe960f037b8efe\",\"events\":[{\"type\":\"postback\",\"postback\":{\"data\":\"data3\",\"params\":{\"date\":\"2022-10-07\"}},\"webhookEventId\":\"01GERKWC4V41T53SZJPMNXEM24\",\"deliveryContext\":{\"isRedelivery\":false},\"timestamp\":1665125986396,\"source\":{\"type\":\"user\",\"userId\":\"U64e856315f80175e21257c6e7eb77412\"},\"replyToken\":\"6ad71e422d11465b8c789d567b3ed78f\",\"mode\":\"active\"}]}\n"
          ]
        },
        {
          "output_type": "stream",
          "name": "stderr",
          "text": [
            "INFO:werkzeug:127.0.0.1 - - [07/Oct/2022 06:59:47] \"\u001b[37mPOST / HTTP/1.1\u001b[0m\" 200 -\n"
          ]
        },
        {
          "output_type": "stream",
          "name": "stdout",
          "text": [
            "{\"destination\":\"Ude2ebddaef1e1b50ddbe960f037b8efe\",\"events\":[{\"type\":\"postback\",\"postback\":{\"data\":\"Data1\"},\"webhookEventId\":\"01GERKWZEJ9KVF3XM6KRSTV44W\",\"deliveryContext\":{\"isRedelivery\":false},\"timestamp\":1665126006158,\"source\":{\"type\":\"user\",\"userId\":\"U64e856315f80175e21257c6e7eb77412\"},\"replyToken\":\"6721a848b17044beaacc832c5f7e16d2\",\"mode\":\"active\"}]}\n"
          ]
        },
        {
          "output_type": "stream",
          "name": "stderr",
          "text": [
            "INFO:werkzeug:127.0.0.1 - - [07/Oct/2022 07:00:07] \"\u001b[37mPOST / HTTP/1.1\u001b[0m\" 200 -\n",
            "ERROR:__main__:Exception on / [POST]\n",
            "Traceback (most recent call last):\n",
            "  File \"/usr/local/lib/python3.7/dist-packages/flask/app.py\", line 2447, in wsgi_app\n",
            "    response = self.full_dispatch_request()\n",
            "  File \"/usr/local/lib/python3.7/dist-packages/flask/app.py\", line 1952, in full_dispatch_request\n",
            "    rv = self.handle_user_exception(e)\n",
            "  File \"/usr/local/lib/python3.7/dist-packages/flask/app.py\", line 1821, in handle_user_exception\n",
            "    reraise(exc_type, exc_value, tb)\n",
            "  File \"/usr/local/lib/python3.7/dist-packages/flask/_compat.py\", line 39, in reraise\n",
            "    raise value\n",
            "  File \"/usr/local/lib/python3.7/dist-packages/flask/app.py\", line 1950, in full_dispatch_request\n",
            "    rv = self.dispatch_request()\n",
            "  File \"/usr/local/lib/python3.7/dist-packages/flask/app.py\", line 1936, in dispatch_request\n",
            "    return self.view_functions[rule.endpoint](**req.view_args)\n",
            "  File \"<ipython-input-5-76ebdfe53b31>\", line 27, in callback\n",
            "    handler.handle(body, signature)\n",
            "  File \"/usr/local/lib/python3.7/dist-packages/linebot/webhook.py\", line 259, in handle\n",
            "    self.__invoke_func(func, event, payload)\n",
            "  File \"/usr/local/lib/python3.7/dist-packages/linebot/webhook.py\", line 271, in __invoke_func\n",
            "    func(event)\n",
            "  File \"<ipython-input-11-8bab7f313a2e>\", line 8, in handle_message\n",
            "    template_message_dict.get(event.message.text)\n",
            "  File \"/usr/local/lib/python3.7/dist-packages/linebot/api.py\", line 109, in reply_message\n",
            "    'messages': [message.as_json_dict() for message in messages],\n",
            "  File \"/usr/local/lib/python3.7/dist-packages/linebot/api.py\", line 109, in <listcomp>\n",
            "    'messages': [message.as_json_dict() for message in messages],\n",
            "AttributeError: 'NoneType' object has no attribute 'as_json_dict'\n",
            "INFO:werkzeug:127.0.0.1 - - [07/Oct/2022 07:04:51] \"\u001b[35m\u001b[1mPOST / HTTP/1.1\u001b[0m\" 500 -\n"
          ]
        },
        {
          "output_type": "stream",
          "name": "stdout",
          "text": [
            "{\"destination\":\"Ude2ebddaef1e1b50ddbe960f037b8efe\",\"events\":[{\"type\":\"message\",\"message\":{\"type\":\"text\",\"id\":\"16910492062249\",\"text\":\"@more\"},\"webhookEventId\":\"01GERM5NSJ0YWMM8MZ2TVNR7CX\",\"deliveryContext\":{\"isRedelivery\":false},\"timestamp\":1665126290761,\"source\":{\"type\":\"user\",\"userId\":\"U64e856315f80175e21257c6e7eb77412\"},\"replyToken\":\"1af59cee9dc94603be563f0cbe32dbef\",\"mode\":\"active\"}]}\n",
            "{\"destination\":\"Ude2ebddaef1e1b50ddbe960f037b8efe\",\"events\":[{\"type\":\"message\",\"message\":{\"type\":\"text\",\"id\":\"16910502040173\",\"text\":\"@reply\"},\"webhookEventId\":\"01GERM9K5XPNSN7NMK3GQKHJ3F\",\"deliveryContext\":{\"isRedelivery\":false},\"timestamp\":1665126419527,\"source\":{\"type\":\"user\",\"userId\":\"U64e856315f80175e21257c6e7eb77412\"},\"replyToken\":\"d80b43ab954d4575a5861745db2990ed\",\"mode\":\"active\"}]}\n"
          ]
        },
        {
          "output_type": "stream",
          "name": "stderr",
          "text": [
            "INFO:werkzeug:127.0.0.1 - - [07/Oct/2022 07:07:00] \"\u001b[37mPOST / HTTP/1.1\u001b[0m\" 200 -\n"
          ]
        }
      ],
      "source": [
        "# 主程序運行\n",
        "app.run()"
      ]
    }
  ],
  "metadata": {
    "colab": {
      "collapsed_sections": [],
      "provenance": []
    },
    "kernelspec": {
      "display_name": "Python 3",
      "language": "python",
      "name": "python3"
    },
    "language_info": {
      "codemirror_mode": {
        "name": "ipython",
        "version": 3
      },
      "file_extension": ".py",
      "mimetype": "text/x-python",
      "name": "python",
      "nbconvert_exporter": "python",
      "pygments_lexer": "ipython3",
      "version": "3.8.6"
    }
  },
  "nbformat": 4,
  "nbformat_minor": 0
}