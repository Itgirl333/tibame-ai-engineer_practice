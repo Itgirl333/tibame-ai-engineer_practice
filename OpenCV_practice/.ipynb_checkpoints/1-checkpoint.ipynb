{
 "cells": [
  {
   "cell_type": "code",
   "execution_count": null,
   "metadata": {
    "id": "5jNBDZK5JrqH"
   },
   "outputs": [],
   "source": [
    "import cv2\n",
    "import numpy as np\n",
    "import IPython.display as dp\n",
    "from google.colab.patches import cv2_imshow\n",
    "import time\n",
    "\n",
    "def run(start, end, step):\n",
    "    for i in range(start, end, step):\n",
    "        dp.clear_output(True)\n",
    "        img = np.full((300,500,3), (100,199,250), np.uint8)\n",
    "        cv2.rectangle(img, (i, 100), (100+i, 200), (0, 0, 255), -1)\n",
    "        cv2_imshow(img)\n",
    "        time.sleep(0.15)\n",
    "\n",
    "while True:\n",
    "    run(10, 400, 15)\n",
    "    run(390, 0, -15)"
   ]
  }
 ],
 "metadata": {
  "colab": {
   "collapsed_sections": [],
   "provenance": []
  },
  "kernelspec": {
   "display_name": "Python 3 (ipykernel)",
   "language": "python",
   "name": "python3"
  },
  "language_info": {
   "codemirror_mode": {
    "name": "ipython",
    "version": 3
   },
   "file_extension": ".py",
   "mimetype": "text/x-python",
   "name": "python",
   "nbconvert_exporter": "python",
   "pygments_lexer": "ipython3",
   "version": "3.9.0"
  }
 },
 "nbformat": 4,
 "nbformat_minor": 1
}
