{
 "cells": [
  {
   "cell_type": "code",
   "execution_count": 1,
   "id": "5353c209",
   "metadata": {},
   "outputs": [
    {
     "name": "stdout",
     "output_type": "stream",
     "text": [
      "需要DELETE的操作。\n",
      "記得去PUT操作。\n",
      "PUT完了，也要PATCH資料。\n",
      "最後POST一筆資料吧。\n",
      "哈哈，答對了，請把操作過程中的所有指令保留在程式碼中，將檔案繳交上來。\n"
     ]
    }
   ],
   "source": [
    "import requests\n",
    "\n",
    "url = 'http://teaching.bo-yuan.net/test/requests/'\n",
    "res = requests.get(url, params = {'action': 'test'})\n",
    "print(res.text)\n",
    "\n",
    "res = requests.delete(url, \n",
    "                      params = {'action': 'test', 'id' : 3}, \n",
    "                      data = {'id': 3})\n",
    "print(res.text)\n",
    "\n",
    "res = requests.put(url, \n",
    "                   params = {'action': 'test', 'id' : 3}, \n",
    "                   data = {'action':'test','id': 3, 'name': 'Crystal'})\n",
    "print(res.text)\n",
    "\n",
    "res = requests.patch(url, \n",
    "                     params = {'action': 'test', 'id' : 3}, \n",
    "                     data = {'action':'test','id': 3, 'name': 'Crystal', 'address': 'taipei'})\n",
    "print(res.text)\n",
    "\n",
    "res = requests.post(url, \n",
    "                    params = {'action': 'test', 'id' : 3}, \n",
    "                    data = {'action':'test','id': 3, 'name': 'Crystal', 'address': 'taipei', 'sex': 'female'})\n",
    "print(res.text)"
   ]
  }
 ],
 "metadata": {
  "kernelspec": {
   "display_name": "Python 3 (ipykernel)",
   "language": "python",
   "name": "python3"
  },
  "language_info": {
   "codemirror_mode": {
    "name": "ipython",
    "version": 3
   },
   "file_extension": ".py",
   "mimetype": "text/x-python",
   "name": "python",
   "nbconvert_exporter": "python",
   "pygments_lexer": "ipython3",
   "version": "3.9.0"
  }
 },
 "nbformat": 4,
 "nbformat_minor": 5
}
