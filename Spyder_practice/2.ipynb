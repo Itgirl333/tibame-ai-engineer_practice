{
 "cells": [
  {
   "cell_type": "code",
   "execution_count": null,
   "id": "6e2ae977",
   "metadata": {},
   "outputs": [],
   "source": [
    "import requests\n",
    "import prettytable\n",
    "import IPython.display as dp\n",
    "\n",
    "url = 'https://ecshweb.pchome.com.tw/search/v3.3/all/results'\n",
    "query = input('關鍵字:')\n",
    "\n",
    "def spyder(query, page = 1):\n",
    "    res = requests.get(url, params = {'q': query, 'page': page, 'sort': 'sale/dc'})\n",
    "    jd = res.json()\n",
    "    table = prettytable.PrettyTable(['名稱', '價格'], encoding = 'utf-8')\n",
    "    for prod in jd['prods']:\n",
    "        table.add_row([prod.get('name'), prod.get('price')])\n",
    "    table.align['名稱'] = 'l'\n",
    "    dp.clear_output(True)\n",
    "    print(table)\n",
    "\n",
    "spyder(query)\n",
    "\n",
    "while True:\n",
    "    page = input('前往頁碼:')\n",
    "    spyder(query, page)"
   ]
  }
 ],
 "metadata": {
  "kernelspec": {
   "display_name": "Python 3 (ipykernel)",
   "language": "python",
   "name": "python3"
  },
  "language_info": {
   "codemirror_mode": {
    "name": "ipython",
    "version": 3
   },
   "file_extension": ".py",
   "mimetype": "text/x-python",
   "name": "python",
   "nbconvert_exporter": "python",
   "pygments_lexer": "ipython3",
   "version": "3.9.0"
  }
 },
 "nbformat": 4,
 "nbformat_minor": 5
}
