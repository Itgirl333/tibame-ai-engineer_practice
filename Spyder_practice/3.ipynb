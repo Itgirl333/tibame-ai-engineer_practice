{
 "cells": [
  {
   "cell_type": "code",
   "execution_count": 1,
   "id": "6e2ae977",
   "metadata": {},
   "outputs": [
    {
     "name": "stdout",
     "output_type": "stream",
     "text": [
      "+--------+------+\n",
      "|  地區  | 氣溫 |\n",
      "+--------+------+\n",
      "| 基隆市 | 34.0 |\n",
      "| 臺北市 | 35.7 |\n",
      "| 新北市 | 35.3 |\n",
      "| 桃園市 | 33.5 |\n",
      "| 新竹市 | 32.5 |\n",
      "| 新竹縣 | 33.6 |\n",
      "| 苗栗縣 | 34.2 |\n",
      "| 臺中市 | 33.5 |\n",
      "| 彰化縣 | 33.1 |\n",
      "| 南投縣 | 35.6 |\n",
      "| 雲林縣 | 34.7 |\n",
      "| 嘉義市 | 33.9 |\n",
      "| 嘉義縣 | 33.3 |\n",
      "| 臺南市 | 34.1 |\n",
      "| 高雄市 | 35.2 |\n",
      "| 屏東縣 | 34.7 |\n",
      "| 宜蘭縣 | 32.2 |\n",
      "| 花蓮縣 | 34.9 |\n",
      "| 臺東縣 | 35.3 |\n",
      "| 澎湖縣 | 32.3 |\n",
      "| 金門縣 | 34.6 |\n",
      "| 連江縣 | 30.5 |\n",
      "+--------+------+\n"
     ]
    }
   ],
   "source": [
    "import requests\n",
    "from bs4 import BeautifulSoup as bs\n",
    "import pandas as pd\n",
    "import prettytable\n",
    "\n",
    "url = 'https://www.cwb.gov.tw/V8/C/W/TemperatureTop/County_TMax_T.html'\n",
    "res = requests.get(url, params = {'ID': 'Wed%20Sep%2028%202022%2015:31:55%20GMT+0800%20(%E5%8F%B0%E5%8C%97%E6%A8%99%E6%BA%96%E6%99%82%E9%96%93'})\n",
    "soup = bs(res.text, 'lxml')\n",
    "\n",
    "table = prettytable.PrettyTable(['地區', '氣溫'], encoding = 'utf-8')\n",
    "\n",
    "for city, temperature in zip(soup.find_all('th'), soup.find_all('span', 'tem-C')):\n",
    "    table.add_row([city.text, temperature.text])\n",
    "\n",
    "table.align['名稱'] = 'l'\n",
    "print(table)"
   ]
  }
 ],
 "metadata": {
  "kernelspec": {
   "display_name": "Python 3 (ipykernel)",
   "language": "python",
   "name": "python3"
  },
  "language_info": {
   "codemirror_mode": {
    "name": "ipython",
    "version": 3
   },
   "file_extension": ".py",
   "mimetype": "text/x-python",
   "name": "python",
   "nbconvert_exporter": "python",
   "pygments_lexer": "ipython3",
   "version": "3.9.0"
  }
 },
 "nbformat": 4,
 "nbformat_minor": 5
}
